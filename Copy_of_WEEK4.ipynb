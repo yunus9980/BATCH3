{
  "nbformat": 4,
  "nbformat_minor": 0,
  "metadata": {
    "colab": {
      "provenance": [],
      "include_colab_link": true
    },
    "kernelspec": {
      "name": "python3",
      "display_name": "Python 3"
    },
    "language_info": {
      "name": "python"
    }
  },
  "cells": [
    {
      "cell_type": "markdown",
      "metadata": {
        "id": "view-in-github",
        "colab_type": "text"
      },
      "source": [
        "<a href=\"https://colab.research.google.com/github/yunus9980/BATCH3/blob/main/Copy_of_WEEK4.ipynb\" target=\"_parent\"><img src=\"https://colab.research.google.com/assets/colab-badge.svg\" alt=\"Open In Colab\"/></a>"
      ]
    },
    {
      "cell_type": "markdown",
      "source": [
        "Exploratory Data Analysis (EDA)\n",
        "🔹 Overview\n",
        "•\tEDA is the first step in data analysis.\n",
        "•\tIt involves examining datasets visually and statistically to discover patterns, spot anomalies, test assumptions, and check data quality.\n",
        "Quote: “EDA is about making sense of data before making assumptions.” – John Tukey (the founder of EDA)\n",
        "________________________________________\n"
      ],
      "metadata": {
        "id": "z5bdRFUk22Lo"
      }
    },
    {
      "cell_type": "markdown",
      "source": [
        "EDA Goals and Benefits\n",
        "\n",
        "🎯 Goals:\n",
        "•\tUnderstand the distribution, central tendency, and spread of variables.\n",
        "\n",
        "•\tDetect outliers or missing values.\n",
        "\n",
        "•\tIdentify relationships between variables.\n",
        "\n",
        "•\tGuide feature selection, transformation, and modeling decisions.\n",
        "\n",
        "\n",
        "✅ Benefits:\n",
        "•\tReduces data issues early.\n",
        "\n",
        "•\tHelps in choosing the right algorithms.\n",
        "\n",
        "•\tImproves the quality of insights and decisions.\n",
        "\n",
        "•\tMakes data interpretable through visualizations.\n",
        "\n",
        "________________________________________\n"
      ],
      "metadata": {
        "id": "XiBoKRWz25ZX"
      }
    },
    {
      "cell_type": "markdown",
      "source": [
        "Univariate Data Analysis\n",
        "\n",
        "Analysis of one variable at a time.\n"
      ],
      "metadata": {
        "id": "Yc8FeO_x3JIv"
      }
    },
    {
      "cell_type": "code",
      "source": [],
      "metadata": {
        "id": "eLjdY3d-_jfp"
      },
      "execution_count": null,
      "outputs": []
    },
    {
      "cell_type": "markdown",
      "source": [
        "Characterizing Data with Descriptive Statistics\n",
        "\n",
        "Used to summarize and describe the main features of a variable.\n",
        "\n",
        "Key measures:\n",
        "\n",
        "•\tCentral tendency: Mean, Median, Mode\n",
        "\n",
        "•\tDispersion: Variance, Standard Deviation, Range, IQR\n",
        "\n",
        "•\tShape: Skewness (asymmetry), Kurtosis (peakedness)\n",
        "\n",
        "\n"
      ],
      "metadata": {
        "id": "3KAPdSL63RRv"
      }
    },
    {
      "cell_type": "code",
      "source": [
        "import pandas as pd\n",
        "df = pd.DataFrame({'score': [78, 85, 90, 95, 88, 76, 92]})\n",
        "df.describe()\n"
      ],
      "metadata": {
        "colab": {
          "base_uri": "https://localhost:8080/",
          "height": 300
        },
        "id": "hGocDIsO3dAI",
        "outputId": "9dd53634-ec0b-42eb-eaa6-d3dd21ea2241"
      },
      "execution_count": null,
      "outputs": [
        {
          "output_type": "execute_result",
          "data": {
            "text/plain": [
              "           score\n",
              "count   7.000000\n",
              "mean   86.285714\n",
              "std     7.087884\n",
              "min    76.000000\n",
              "25%    81.500000\n",
              "50%    88.000000\n",
              "75%    91.000000\n",
              "max    95.000000"
            ],
            "text/html": [
              "\n",
              "  <div id=\"df-65010b0d-c81a-4ac0-9cbd-f03088c3c5f2\" class=\"colab-df-container\">\n",
              "    <div>\n",
              "<style scoped>\n",
              "    .dataframe tbody tr th:only-of-type {\n",
              "        vertical-align: middle;\n",
              "    }\n",
              "\n",
              "    .dataframe tbody tr th {\n",
              "        vertical-align: top;\n",
              "    }\n",
              "\n",
              "    .dataframe thead th {\n",
              "        text-align: right;\n",
              "    }\n",
              "</style>\n",
              "<table border=\"1\" class=\"dataframe\">\n",
              "  <thead>\n",
              "    <tr style=\"text-align: right;\">\n",
              "      <th></th>\n",
              "      <th>score</th>\n",
              "    </tr>\n",
              "  </thead>\n",
              "  <tbody>\n",
              "    <tr>\n",
              "      <th>count</th>\n",
              "      <td>7.000000</td>\n",
              "    </tr>\n",
              "    <tr>\n",
              "      <th>mean</th>\n",
              "      <td>86.285714</td>\n",
              "    </tr>\n",
              "    <tr>\n",
              "      <th>std</th>\n",
              "      <td>7.087884</td>\n",
              "    </tr>\n",
              "    <tr>\n",
              "      <th>min</th>\n",
              "      <td>76.000000</td>\n",
              "    </tr>\n",
              "    <tr>\n",
              "      <th>25%</th>\n",
              "      <td>81.500000</td>\n",
              "    </tr>\n",
              "    <tr>\n",
              "      <th>50%</th>\n",
              "      <td>88.000000</td>\n",
              "    </tr>\n",
              "    <tr>\n",
              "      <th>75%</th>\n",
              "      <td>91.000000</td>\n",
              "    </tr>\n",
              "    <tr>\n",
              "      <th>max</th>\n",
              "      <td>95.000000</td>\n",
              "    </tr>\n",
              "  </tbody>\n",
              "</table>\n",
              "</div>\n",
              "    <div class=\"colab-df-buttons\">\n",
              "\n",
              "  <div class=\"colab-df-container\">\n",
              "    <button class=\"colab-df-convert\" onclick=\"convertToInteractive('df-65010b0d-c81a-4ac0-9cbd-f03088c3c5f2')\"\n",
              "            title=\"Convert this dataframe to an interactive table.\"\n",
              "            style=\"display:none;\">\n",
              "\n",
              "  <svg xmlns=\"http://www.w3.org/2000/svg\" height=\"24px\" viewBox=\"0 -960 960 960\">\n",
              "    <path d=\"M120-120v-720h720v720H120Zm60-500h600v-160H180v160Zm220 220h160v-160H400v160Zm0 220h160v-160H400v160ZM180-400h160v-160H180v160Zm440 0h160v-160H620v160ZM180-180h160v-160H180v160Zm440 0h160v-160H620v160Z\"/>\n",
              "  </svg>\n",
              "    </button>\n",
              "\n",
              "  <style>\n",
              "    .colab-df-container {\n",
              "      display:flex;\n",
              "      gap: 12px;\n",
              "    }\n",
              "\n",
              "    .colab-df-convert {\n",
              "      background-color: #E8F0FE;\n",
              "      border: none;\n",
              "      border-radius: 50%;\n",
              "      cursor: pointer;\n",
              "      display: none;\n",
              "      fill: #1967D2;\n",
              "      height: 32px;\n",
              "      padding: 0 0 0 0;\n",
              "      width: 32px;\n",
              "    }\n",
              "\n",
              "    .colab-df-convert:hover {\n",
              "      background-color: #E2EBFA;\n",
              "      box-shadow: 0px 1px 2px rgba(60, 64, 67, 0.3), 0px 1px 3px 1px rgba(60, 64, 67, 0.15);\n",
              "      fill: #174EA6;\n",
              "    }\n",
              "\n",
              "    .colab-df-buttons div {\n",
              "      margin-bottom: 4px;\n",
              "    }\n",
              "\n",
              "    [theme=dark] .colab-df-convert {\n",
              "      background-color: #3B4455;\n",
              "      fill: #D2E3FC;\n",
              "    }\n",
              "\n",
              "    [theme=dark] .colab-df-convert:hover {\n",
              "      background-color: #434B5C;\n",
              "      box-shadow: 0px 1px 3px 1px rgba(0, 0, 0, 0.15);\n",
              "      filter: drop-shadow(0px 1px 2px rgba(0, 0, 0, 0.3));\n",
              "      fill: #FFFFFF;\n",
              "    }\n",
              "  </style>\n",
              "\n",
              "    <script>\n",
              "      const buttonEl =\n",
              "        document.querySelector('#df-65010b0d-c81a-4ac0-9cbd-f03088c3c5f2 button.colab-df-convert');\n",
              "      buttonEl.style.display =\n",
              "        google.colab.kernel.accessAllowed ? 'block' : 'none';\n",
              "\n",
              "      async function convertToInteractive(key) {\n",
              "        const element = document.querySelector('#df-65010b0d-c81a-4ac0-9cbd-f03088c3c5f2');\n",
              "        const dataTable =\n",
              "          await google.colab.kernel.invokeFunction('convertToInteractive',\n",
              "                                                    [key], {});\n",
              "        if (!dataTable) return;\n",
              "\n",
              "        const docLinkHtml = 'Like what you see? Visit the ' +\n",
              "          '<a target=\"_blank\" href=https://colab.research.google.com/notebooks/data_table.ipynb>data table notebook</a>'\n",
              "          + ' to learn more about interactive tables.';\n",
              "        element.innerHTML = '';\n",
              "        dataTable['output_type'] = 'display_data';\n",
              "        await google.colab.output.renderOutput(dataTable, element);\n",
              "        const docLink = document.createElement('div');\n",
              "        docLink.innerHTML = docLinkHtml;\n",
              "        element.appendChild(docLink);\n",
              "      }\n",
              "    </script>\n",
              "  </div>\n",
              "\n",
              "\n",
              "    <div id=\"df-5b944da0-7cdf-4070-ac6f-9c7213b27c3f\">\n",
              "      <button class=\"colab-df-quickchart\" onclick=\"quickchart('df-5b944da0-7cdf-4070-ac6f-9c7213b27c3f')\"\n",
              "                title=\"Suggest charts\"\n",
              "                style=\"display:none;\">\n",
              "\n",
              "<svg xmlns=\"http://www.w3.org/2000/svg\" height=\"24px\"viewBox=\"0 0 24 24\"\n",
              "     width=\"24px\">\n",
              "    <g>\n",
              "        <path d=\"M19 3H5c-1.1 0-2 .9-2 2v14c0 1.1.9 2 2 2h14c1.1 0 2-.9 2-2V5c0-1.1-.9-2-2-2zM9 17H7v-7h2v7zm4 0h-2V7h2v10zm4 0h-2v-4h2v4z\"/>\n",
              "    </g>\n",
              "</svg>\n",
              "      </button>\n",
              "\n",
              "<style>\n",
              "  .colab-df-quickchart {\n",
              "      --bg-color: #E8F0FE;\n",
              "      --fill-color: #1967D2;\n",
              "      --hover-bg-color: #E2EBFA;\n",
              "      --hover-fill-color: #174EA6;\n",
              "      --disabled-fill-color: #AAA;\n",
              "      --disabled-bg-color: #DDD;\n",
              "  }\n",
              "\n",
              "  [theme=dark] .colab-df-quickchart {\n",
              "      --bg-color: #3B4455;\n",
              "      --fill-color: #D2E3FC;\n",
              "      --hover-bg-color: #434B5C;\n",
              "      --hover-fill-color: #FFFFFF;\n",
              "      --disabled-bg-color: #3B4455;\n",
              "      --disabled-fill-color: #666;\n",
              "  }\n",
              "\n",
              "  .colab-df-quickchart {\n",
              "    background-color: var(--bg-color);\n",
              "    border: none;\n",
              "    border-radius: 50%;\n",
              "    cursor: pointer;\n",
              "    display: none;\n",
              "    fill: var(--fill-color);\n",
              "    height: 32px;\n",
              "    padding: 0;\n",
              "    width: 32px;\n",
              "  }\n",
              "\n",
              "  .colab-df-quickchart:hover {\n",
              "    background-color: var(--hover-bg-color);\n",
              "    box-shadow: 0 1px 2px rgba(60, 64, 67, 0.3), 0 1px 3px 1px rgba(60, 64, 67, 0.15);\n",
              "    fill: var(--button-hover-fill-color);\n",
              "  }\n",
              "\n",
              "  .colab-df-quickchart-complete:disabled,\n",
              "  .colab-df-quickchart-complete:disabled:hover {\n",
              "    background-color: var(--disabled-bg-color);\n",
              "    fill: var(--disabled-fill-color);\n",
              "    box-shadow: none;\n",
              "  }\n",
              "\n",
              "  .colab-df-spinner {\n",
              "    border: 2px solid var(--fill-color);\n",
              "    border-color: transparent;\n",
              "    border-bottom-color: var(--fill-color);\n",
              "    animation:\n",
              "      spin 1s steps(1) infinite;\n",
              "  }\n",
              "\n",
              "  @keyframes spin {\n",
              "    0% {\n",
              "      border-color: transparent;\n",
              "      border-bottom-color: var(--fill-color);\n",
              "      border-left-color: var(--fill-color);\n",
              "    }\n",
              "    20% {\n",
              "      border-color: transparent;\n",
              "      border-left-color: var(--fill-color);\n",
              "      border-top-color: var(--fill-color);\n",
              "    }\n",
              "    30% {\n",
              "      border-color: transparent;\n",
              "      border-left-color: var(--fill-color);\n",
              "      border-top-color: var(--fill-color);\n",
              "      border-right-color: var(--fill-color);\n",
              "    }\n",
              "    40% {\n",
              "      border-color: transparent;\n",
              "      border-right-color: var(--fill-color);\n",
              "      border-top-color: var(--fill-color);\n",
              "    }\n",
              "    60% {\n",
              "      border-color: transparent;\n",
              "      border-right-color: var(--fill-color);\n",
              "    }\n",
              "    80% {\n",
              "      border-color: transparent;\n",
              "      border-right-color: var(--fill-color);\n",
              "      border-bottom-color: var(--fill-color);\n",
              "    }\n",
              "    90% {\n",
              "      border-color: transparent;\n",
              "      border-bottom-color: var(--fill-color);\n",
              "    }\n",
              "  }\n",
              "</style>\n",
              "\n",
              "      <script>\n",
              "        async function quickchart(key) {\n",
              "          const quickchartButtonEl =\n",
              "            document.querySelector('#' + key + ' button');\n",
              "          quickchartButtonEl.disabled = true;  // To prevent multiple clicks.\n",
              "          quickchartButtonEl.classList.add('colab-df-spinner');\n",
              "          try {\n",
              "            const charts = await google.colab.kernel.invokeFunction(\n",
              "                'suggestCharts', [key], {});\n",
              "          } catch (error) {\n",
              "            console.error('Error during call to suggestCharts:', error);\n",
              "          }\n",
              "          quickchartButtonEl.classList.remove('colab-df-spinner');\n",
              "          quickchartButtonEl.classList.add('colab-df-quickchart-complete');\n",
              "        }\n",
              "        (() => {\n",
              "          let quickchartButtonEl =\n",
              "            document.querySelector('#df-5b944da0-7cdf-4070-ac6f-9c7213b27c3f button');\n",
              "          quickchartButtonEl.style.display =\n",
              "            google.colab.kernel.accessAllowed ? 'block' : 'none';\n",
              "        })();\n",
              "      </script>\n",
              "    </div>\n",
              "\n",
              "    </div>\n",
              "  </div>\n"
            ],
            "application/vnd.google.colaboratory.intrinsic+json": {
              "type": "dataframe",
              "summary": "{\n  \"name\": \"df\",\n  \"rows\": 8,\n  \"fields\": [\n    {\n      \"column\": \"score\",\n      \"properties\": {\n        \"dtype\": \"number\",\n        \"std\": 37.13204633803635,\n        \"min\": 7.0,\n        \"max\": 95.0,\n        \"num_unique_values\": 8,\n        \"samples\": [\n          86.28571428571429,\n          88.0,\n          7.0\n        ],\n        \"semantic_type\": \"\",\n        \"description\": \"\"\n      }\n    }\n  ]\n}"
            }
          },
          "metadata": {},
          "execution_count": 1
        }
      ]
    },
    {
      "cell_type": "markdown",
      "source": [
        "Univariate Distribution Plots\n",
        "\n",
        "Visualize how a variable is distributed.\n",
        "\n",
        "Common plots:\n",
        "\n",
        "•\tHistogram: Shows frequency distribution\n",
        "\n",
        "•\tDensity Plot (KDE): Smooth estimate of distribution\n",
        "\n",
        "•\tBox Plot: Displays median, quartiles, outliers\n",
        "\n"
      ],
      "metadata": {
        "id": "z4T74MAR3ehf"
      }
    },
    {
      "cell_type": "code",
      "source": [
        "import seaborn as sns\n",
        "sns.histplot(df['score'], kde=True)\n"
      ],
      "metadata": {
        "colab": {
          "base_uri": "https://localhost:8080/",
          "height": 466
        },
        "id": "EoAAQbQg3sqQ",
        "outputId": "78ba73d9-41c7-4985-ecaf-468795a28453"
      },
      "execution_count": null,
      "outputs": [
        {
          "output_type": "execute_result",
          "data": {
            "text/plain": [
              "<Axes: xlabel='score', ylabel='Count'>"
            ]
          },
          "metadata": {},
          "execution_count": 14
        },
        {
          "output_type": "display_data",
          "data": {
            "text/plain": [
              "<Figure size 640x480 with 1 Axes>"
            ],
            "image/png": "[encoded data removed]"
          },
          "metadata": {}
        }
      ]
    },
    {
      "cell_type": "markdown",
      "source": [
        "Univariate Comparison Plots\n",
        "\n",
        "Used to compare the distribution of a variable across categories.\n",
        "\n",
        "Examples:\n",
        "\n",
        "•\tBox Plot by group\n",
        "\n",
        "•\tViolin Plot\n",
        "\n",
        "•\tStrip Plot\n",
        "\n"
      ],
      "metadata": {
        "id": "PJDpg_Cg3Znn"
      }
    },
    {
      "cell_type": "code",
      "source": [
        "sns.boxplot(x='gender', y='marks', data=df2)\n",
        "plt.title(\"Marks by Gender\")\n",
        "plt.show()"
      ],
      "metadata": {
        "colab": {
          "base_uri": "https://localhost:8080/",
          "height": 472
        },
        "id": "qu2M7OM3339n",
        "outputId": "ada7f3fd-d4fb-45df-c6d4-99fc7344906b"
      },
      "execution_count": null,
      "outputs": [
        {
          "output_type": "display_data",
          "data": {
            "text/plain": [
              "<Figure size 640x480 with 1 Axes>"
            ],
            "image/png": "[encoded data removed]"
          },
          "metadata": {}
        }
      ]
    },
    {
      "cell_type": "markdown",
      "source": [
        "Univariate Composition Plots\n",
        "\n",
        "Used to analyze the composition of categorical data (counts, proportions).\n",
        "\n",
        "Common plots:\n",
        "\n",
        "•\tBar Plot: Shows count/frequency\n",
        "\n",
        "•\tPie Chart (less preferred for analysis)\n",
        "\n",
        "•\tDonut Chart\n"
      ],
      "metadata": {
        "id": "zxfC-5AD4Tc3"
      }
    },
    {
      "cell_type": "code",
      "source": [
        "import seaborn as sns\n",
        "sns.countplot(x='category', data=df)"
      ],
      "metadata": {
        "colab": {
          "base_uri": "https://localhost:8080/",
          "height": 964
        },
        "id": "MgVC-Sqf4Z13",
        "outputId": "8f83b8dd-0612-458f-bf44-8c3b281d2246"
      },
      "execution_count": null,
      "outputs": [
        {
          "output_type": "error",
          "ename": "ValueError",
          "evalue": "Could not interpret value `category` for `x`. An entry with this name does not appear in `data`.",
          "traceback": [
            "\u001b[0;31m---------------------------------------------------------------------------\u001b[0m",
            "\u001b[0;31mValueError\u001b[0m                                Traceback (most recent call last)",
            "\u001b[0;32m/tmp/ipython-input-1529947340.py\u001b[0m in \u001b[0;36m<cell line: 0>\u001b[0;34m()\u001b[0m\n\u001b[1;32m      1\u001b[0m \u001b[0;32mimport\u001b[0m \u001b[0mseaborn\u001b[0m \u001b[0;32mas\u001b[0m \u001b[0msns\u001b[0m\u001b[0;34m\u001b[0m\u001b[0;34m\u001b[0m\u001b[0m\n\u001b[0;32m----> 2\u001b[0;31m \u001b[0msns\u001b[0m\u001b[0;34m.\u001b[0m\u001b[0mcountplot\u001b[0m\u001b[0;34m(\u001b[0m\u001b[0mx\u001b[0m\u001b[0;34m=\u001b[0m\u001b[0;34m'category'\u001b[0m\u001b[0;34m,\u001b[0m \u001b[0mdata\u001b[0m\u001b[0;34m=\u001b[0m\u001b[0mdf\u001b[0m\u001b[0;34m)\u001b[0m\u001b[0;34m\u001b[0m\u001b[0;34m\u001b[0m\u001b[0m\n\u001b[0m",
            "\u001b[0;32m/usr/local/lib/python3.11/dist-packages/seaborn/categorical.py\u001b[0m in \u001b[0;36mcountplot\u001b[0;34m(data, x, y, hue, order, hue_order, orient, color, palette, saturation, fill, hue_norm, stat, width, dodge, gap, log_scale, native_scale, formatter, legend, ax, **kwargs)\u001b[0m\n\u001b[1;32m   2629\u001b[0m         \u001b[0;32mraise\u001b[0m \u001b[0mTypeError\u001b[0m\u001b[0;34m(\u001b[0m\u001b[0;34m\"Cannot pass values for both `x` and `y`.\"\u001b[0m\u001b[0;34m)\u001b[0m\u001b[0;34m\u001b[0m\u001b[0;34m\u001b[0m\u001b[0m\n\u001b[1;32m   2630\u001b[0m \u001b[0;34m\u001b[0m\u001b[0m\n\u001b[0;32m-> 2631\u001b[0;31m     p = _CategoricalAggPlotter(\n\u001b[0m\u001b[1;32m   2632\u001b[0m         \u001b[0mdata\u001b[0m\u001b[0;34m=\u001b[0m\u001b[0mdata\u001b[0m\u001b[0;34m,\u001b[0m\u001b[0;34m\u001b[0m\u001b[0;34m\u001b[0m\u001b[0m\n\u001b[1;32m   2633\u001b[0m         \u001b[0mvariables\u001b[0m\u001b[0;34m=\u001b[0m\u001b[0mdict\u001b[0m\u001b[0;34m(\u001b[0m\u001b[0mx\u001b[0m\u001b[0;34m=\u001b[0m\u001b[0mx\u001b[0m\u001b[0;34m,\u001b[0m \u001b[0my\u001b[0m\u001b[0;34m=\u001b[0m\u001b[0my\u001b[0m\u001b[0;34m,\u001b[0m \u001b[0mhue\u001b[0m\u001b[0;34m=\u001b[0m\u001b[0mhue\u001b[0m\u001b[0;34m)\u001b[0m\u001b[0;34m,\u001b[0m\u001b[0;34m\u001b[0m\u001b[0;34m\u001b[0m\u001b[0m\n",
            "\u001b[0;32m/usr/local/lib/python3.11/dist-packages/seaborn/categorical.py\u001b[0m in \u001b[0;36m__init__\u001b[0;34m(self, data, variables, order, orient, require_numeric, color, legend)\u001b[0m\n\u001b[1;32m     65\u001b[0m     ):\n\u001b[1;32m     66\u001b[0m \u001b[0;34m\u001b[0m\u001b[0m\n\u001b[0;32m---> 67\u001b[0;31m         \u001b[0msuper\u001b[0m\u001b[0;34m(\u001b[0m\u001b[0;34m)\u001b[0m\u001b[0;34m.\u001b[0m\u001b[0m__init__\u001b[0m\u001b[0;34m(\u001b[0m\u001b[0mdata\u001b[0m\u001b[0;34m=\u001b[0m\u001b[0mdata\u001b[0m\u001b[0;34m,\u001b[0m \u001b[0mvariables\u001b[0m\u001b[0;34m=\u001b[0m\u001b[0mvariables\u001b[0m\u001b[0;34m)\u001b[0m\u001b[0;34m\u001b[0m\u001b[0;34m\u001b[0m\u001b[0m\n\u001b[0m\u001b[1;32m     68\u001b[0m \u001b[0;34m\u001b[0m\u001b[0m\n\u001b[1;32m     69\u001b[0m         \u001b[0;31m# This method takes care of some bookkeeping that is necessary because the\u001b[0m\u001b[0;34m\u001b[0m\u001b[0;34m\u001b[0m\u001b[0m\n",
            "\u001b[0;32m/usr/local/lib/python3.11/dist-packages/seaborn/_base.py\u001b[0m in \u001b[0;36m__init__\u001b[0;34m(self, data, variables)\u001b[0m\n\u001b[1;32m    632\u001b[0m         \u001b[0;31m# information for numeric axes would be information about log scales.\u001b[0m\u001b[0;34m\u001b[0m\u001b[0;34m\u001b[0m\u001b[0m\n\u001b[1;32m    633\u001b[0m         \u001b[0mself\u001b[0m\u001b[0;34m.\u001b[0m\u001b[0m_var_ordered\u001b[0m \u001b[0;34m=\u001b[0m \u001b[0;34m{\u001b[0m\u001b[0;34m\"x\"\u001b[0m\u001b[0;34m:\u001b[0m \u001b[0;32mFalse\u001b[0m\u001b[0;34m,\u001b[0m \u001b[0;34m\"y\"\u001b[0m\u001b[0;34m:\u001b[0m \u001b[0;32mFalse\u001b[0m\u001b[0;34m}\u001b[0m  \u001b[0;31m# alt., used DefaultDict\u001b[0m\u001b[0;34m\u001b[0m\u001b[0;34m\u001b[0m\u001b[0m\n\u001b[0;32m--> 634\u001b[0;31m         \u001b[0mself\u001b[0m\u001b[0;34m.\u001b[0m\u001b[0massign_variables\u001b[0m\u001b[0;34m(\u001b[0m\u001b[0mdata\u001b[0m\u001b[0;34m,\u001b[0m \u001b[0mvariables\u001b[0m\u001b[0;34m)\u001b[0m\u001b[0;34m\u001b[0m\u001b[0;34m\u001b[0m\u001b[0m\n\u001b[0m\u001b[1;32m    635\u001b[0m \u001b[0;34m\u001b[0m\u001b[0m\n\u001b[1;32m    636\u001b[0m         \u001b[0;31m# TODO Lots of tests assume that these are called to initialize the\u001b[0m\u001b[0;34m\u001b[0m\u001b[0;34m\u001b[0m\u001b[0m\n",
            "\u001b[0;32m/usr/local/lib/python3.11/dist-packages/seaborn/_base.py\u001b[0m in \u001b[0;36massign_variables\u001b[0;34m(self, data, variables)\u001b[0m\n\u001b[1;32m    677\u001b[0m             \u001b[0;31m# to centralize / standardize data consumption logic.\u001b[0m\u001b[0;34m\u001b[0m\u001b[0;34m\u001b[0m\u001b[0m\n\u001b[1;32m    678\u001b[0m             \u001b[0mself\u001b[0m\u001b[0;34m.\u001b[0m\u001b[0minput_format\u001b[0m \u001b[0;34m=\u001b[0m \u001b[0;34m\"long\"\u001b[0m\u001b[0;34m\u001b[0m\u001b[0;34m\u001b[0m\u001b[0m\n\u001b[0;32m--> 679\u001b[0;31m             \u001b[0mplot_data\u001b[0m \u001b[0;34m=\u001b[0m \u001b[0mPlotData\u001b[0m\u001b[0;34m(\u001b[0m\u001b[0mdata\u001b[0m\u001b[0;34m,\u001b[0m \u001b[0mvariables\u001b[0m\u001b[0;34m)\u001b[0m\u001b[0;34m\u001b[0m\u001b[0;34m\u001b[0m\u001b[0m\n\u001b[0m\u001b[1;32m    680\u001b[0m             \u001b[0mframe\u001b[0m \u001b[0;34m=\u001b[0m \u001b[0mplot_data\u001b[0m\u001b[0;34m.\u001b[0m\u001b[0mframe\u001b[0m\u001b[0;34m\u001b[0m\u001b[0;34m\u001b[0m\u001b[0m\n\u001b[1;32m    681\u001b[0m             \u001b[0mnames\u001b[0m \u001b[0;34m=\u001b[0m \u001b[0mplot_data\u001b[0m\u001b[0;34m.\u001b[0m\u001b[0mnames\u001b[0m\u001b[0;34m\u001b[0m\u001b[0;34m\u001b[0m\u001b[0m\n",
            "\u001b[0;32m/usr/local/lib/python3.11/dist-packages/seaborn/_core/data.py\u001b[0m in \u001b[0;36m__init__\u001b[0;34m(self, data, variables)\u001b[0m\n\u001b[1;32m     56\u001b[0m \u001b[0;34m\u001b[0m\u001b[0m\n\u001b[1;32m     57\u001b[0m         \u001b[0mdata\u001b[0m \u001b[0;34m=\u001b[0m \u001b[0mhandle_data_source\u001b[0m\u001b[0;34m(\u001b[0m\u001b[0mdata\u001b[0m\u001b[0;34m)\u001b[0m\u001b[0;34m\u001b[0m\u001b[0;34m\u001b[0m\u001b[0m\n\u001b[0;32m---> 58\u001b[0;31m         \u001b[0mframe\u001b[0m\u001b[0;34m,\u001b[0m \u001b[0mnames\u001b[0m\u001b[0;34m,\u001b[0m \u001b[0mids\u001b[0m \u001b[0;34m=\u001b[0m \u001b[0mself\u001b[0m\u001b[0;34m.\u001b[0m\u001b[0m_assign_variables\u001b[0m\u001b[0;34m(\u001b[0m\u001b[0mdata\u001b[0m\u001b[0;34m,\u001b[0m \u001b[0mvariables\u001b[0m\u001b[0;34m)\u001b[0m\u001b[0;34m\u001b[0m\u001b[0;34m\u001b[0m\u001b[0m\n\u001b[0m\u001b[1;32m     59\u001b[0m \u001b[0;34m\u001b[0m\u001b[0m\n\u001b[1;32m     60\u001b[0m         \u001b[0mself\u001b[0m\u001b[0;34m.\u001b[0m\u001b[0mframe\u001b[0m \u001b[0;34m=\u001b[0m \u001b[0mframe\u001b[0m\u001b[0;34m\u001b[0m\u001b[0;34m\u001b[0m\u001b[0m\n",
            "\u001b[0;32m/usr/local/lib/python3.11/dist-packages/seaborn/_core/data.py\u001b[0m in \u001b[0;36m_assign_variables\u001b[0;34m(self, data, variables)\u001b[0m\n\u001b[1;32m    230\u001b[0m                 \u001b[0;32melse\u001b[0m\u001b[0;34m:\u001b[0m\u001b[0;34m\u001b[0m\u001b[0;34m\u001b[0m\u001b[0m\n\u001b[1;32m    231\u001b[0m                     \u001b[0merr\u001b[0m \u001b[0;34m+=\u001b[0m \u001b[0;34m\"An entry with this name does not appear in `data`.\"\u001b[0m\u001b[0;34m\u001b[0m\u001b[0;34m\u001b[0m\u001b[0m\n\u001b[0;32m--> 232\u001b[0;31m                 \u001b[0;32mraise\u001b[0m \u001b[0mValueError\u001b[0m\u001b[0;34m(\u001b[0m\u001b[0merr\u001b[0m\u001b[0;34m)\u001b[0m\u001b[0;34m\u001b[0m\u001b[0;34m\u001b[0m\u001b[0m\n\u001b[0m\u001b[1;32m    233\u001b[0m \u001b[0;34m\u001b[0m\u001b[0m\n\u001b[1;32m    234\u001b[0m             \u001b[0;32melse\u001b[0m\u001b[0;34m:\u001b[0m\u001b[0;34m\u001b[0m\u001b[0;34m\u001b[0m\u001b[0m\n",
            "\u001b[0;31mValueError\u001b[0m: Could not interpret value `category` for `x`. An entry with this name does not appear in `data`."
          ]
        }
      ]
    },
    {
      "cell_type": "code",
      "execution_count": null,
      "metadata": {
        "colab": {
          "base_uri": "https://localhost:8080/"
        },
        "id": "7qLz8DIeyN1z",
        "outputId": "13703eee-1a1b-4bbc-d587-d41f023e098d"
      },
      "outputs": [
        {
          "output_type": "stream",
          "name": "stdout",
          "text": [
            "           marks\n",
            "count   7.000000\n",
            "mean   86.285714\n",
            "std     7.087884\n",
            "min    76.000000\n",
            "25%    81.500000\n",
            "50%    88.000000\n",
            "75%    91.000000\n",
            "max    95.000000\n"
          ]
        }
      ],
      "source": [
        "import pandas as pd\n",
        "\n",
        "data = {'marks': [85, 90, 78, 92, 88, 76, 95]}\n",
        "df = pd.DataFrame(data)\n",
        "\n",
        "# Descriptive statistics\n",
        "print(df.describe())"
      ]
    },
    {
      "cell_type": "code",
      "source": [
        "import seaborn as sns\n",
        "import matplotlib.pyplot as plt\n",
        "\n",
        "sns.histplot(df['marks'], kde=True)\n",
        "plt.title(\"Marks Distribution\")\n",
        "plt.show()"
      ],
      "metadata": {
        "colab": {
          "base_uri": "https://localhost:8080/",
          "height": 472
        },
        "id": "ufcLq-wGzKSZ",
        "outputId": "c1cf38e5-b850-48c5-add8-e5141527f4fc"
      },
      "execution_count": null,
      "outputs": [
        {
          "output_type": "display_data",
          "data": {
            "text/plain": [
              "<Figure size 640x480 with 1 Axes>"
            ],
            "image/png": "[encoded data removed]"
          },
          "metadata": {}
        }
      ]
    },
    {
      "cell_type": "code",
      "source": [
        "df2 = pd.DataFrame({\n",
        "    'gender': ['M', 'F', 'M', 'F', 'M', 'F', 'M'],\n",
        "    'marks': [85, 90, 78, 92, 88, 76, 95]\n",
        "})\n",
        "\n",
        "sns.boxplot(x='gender', y='marks', data=df2)\n",
        "plt.title(\"Marks by Gender\")\n",
        "plt.show()"
      ],
      "metadata": {
        "colab": {
          "base_uri": "https://localhost:8080/",
          "height": 472
        },
        "id": "pbrmUfUPzjQY",
        "outputId": "7fce3401-0fc8-45cf-eae9-6ee82b7900de"
      },
      "execution_count": null,
      "outputs": [
        {
          "output_type": "display_data",
          "data": {
            "text/plain": [
              "<Figure size 640x480 with 1 Axes>"
            ],
            "image/png": "[encoded data removed]"
          },
          "metadata": {}
        }
      ]
    },
    {
      "cell_type": "markdown",
      "source": [
        "# Helps compare distribution of marks between boys and girls."
      ],
      "metadata": {
        "id": "VMu-0EH9zthA"
      }
    },
    {
      "cell_type": "markdown",
      "source": [
        "# Univariate Composition Plots\n",
        "\n",
        "Example: Bar plot for category counts"
      ],
      "metadata": {
        "id": "wSJTj_2Uz0kA"
      }
    },
    {
      "cell_type": "code",
      "source": [
        "df3 = pd.DataFrame({\n",
        "    'grade': ['A', 'B', 'A', 'C', 'B', 'A', 'C', 'B']\n",
        "})\n",
        "\n",
        "sns.countplot(x='grade', data=df3)\n",
        "plt.title(\"Grade Distribution\")\n",
        "plt.show()"
      ],
      "metadata": {
        "colab": {
          "base_uri": "https://localhost:8080/",
          "height": 472
        },
        "id": "dozxV13xzvx4",
        "outputId": "66c327c2-1baf-4472-ee65-4247df58ca2a"
      },
      "execution_count": null,
      "outputs": [
        {
          "output_type": "display_data",
          "data": {
            "text/plain": [
              "<Figure size 640x480 with 1 Axes>"
            ],
            "image/png": "[encoded data removed]"
          },
          "metadata": {}
        }
      ]
    },
    {
      "cell_type": "markdown",
      "source": [
        "# real-world Exploratory Data Analysis (EDA)"
      ],
      "metadata": {
        "id": "WXoJXHIwzzA4"
      }
    },
    {
      "cell_type": "code",
      "source": [
        "import seaborn as sns\n",
        "import pandas as pd\n",
        "import matplotlib.pyplot as plt\n",
        "\n",
        "# Load dataset\n",
        "df = sns.load_dataset('titanic')\n",
        "df.head()"
      ],
      "metadata": {
        "colab": {
          "base_uri": "https://localhost:8080/",
          "height": 206
        },
        "id": "JxElsiTV0T6I",
        "outputId": "e92e96e3-6378-4513-8f88-8898942fffd2"
      },
      "execution_count": null,
      "outputs": [
        {
          "output_type": "execute_result",
          "data": {
            "text/plain": [
              "   survived  pclass     sex   age  sibsp  parch     fare embarked  class  \\\n",
              "0         0       3    male  22.0      1      0   7.2500        S  Third   \n",
              "1         1       1  female  38.0      1      0  71.2833        C  First   \n",
              "2         1       3  female  26.0      0      0   7.9250        S  Third   \n",
              "3         1       1  female  35.0      1      0  53.1000        S  First   \n",
              "4         0       3    male  35.0      0      0   8.0500        S  Third   \n",
              "\n",
              "     who  adult_male deck  embark_town alive  alone  \n",
              "0    man        True  NaN  Southampton    no  False  \n",
              "1  woman       False    C    Cherbourg   yes  False  \n",
              "2  woman       False  NaN  Southampton   yes   True  \n",
              "3  woman       False    C  Southampton   yes  False  \n",
              "4    man        True  NaN  Southampton    no   True  "
            ],
            "text/html": [
              "\n",
              "  <div id=\"df-0dc3730a-a8a5-435f-a2cc-4634df8b9e3e\" class=\"colab-df-container\">\n",
              "    <div>\n",
              "<style scoped>\n",
              "    .dataframe tbody tr th:only-of-type {\n",
              "        vertical-align: middle;\n",
              "    }\n",
              "\n",
              "    .dataframe tbody tr th {\n",
              "        vertical-align: top;\n",
              "    }\n",
              "\n",
              "    .dataframe thead th {\n",
              "        text-align: right;\n",
              "    }\n",
              "</style>\n",
              "<table border=\"1\" class=\"dataframe\">\n",
              "  <thead>\n",
              "    <tr style=\"text-align: right;\">\n",
              "      <th></th>\n",
              "      <th>survived</th>\n",
              "      <th>pclass</th>\n",
              "      <th>sex</th>\n",
              "      <th>age</th>\n",
              "      <th>sibsp</th>\n",
              "      <th>parch</th>\n",
              "      <th>fare</th>\n",
              "      <th>embarked</th>\n",
              "      <th>class</th>\n",
              "      <th>who</th>\n",
              "      <th>adult_male</th>\n",
              "      <th>deck</th>\n",
              "      <th>embark_town</th>\n",
              "      <th>alive</th>\n",
              "      <th>alone</th>\n",
              "    </tr>\n",
              "  </thead>\n",
              "  <tbody>\n",
              "    <tr>\n",
              "      <th>0</th>\n",
              "      <td>0</td>\n",
              "      <td>3</td>\n",
              "      <td>male</td>\n",
              "      <td>22.0</td>\n",
              "      <td>1</td>\n",
              "      <td>0</td>\n",
              "      <td>7.2500</td>\n",
              "      <td>S</td>\n",
              "      <td>Third</td>\n",
              "      <td>man</td>\n",
              "      <td>True</td>\n",
              "      <td>NaN</td>\n",
              "      <td>Southampton</td>\n",
              "      <td>no</td>\n",
              "      <td>False</td>\n",
              "    </tr>\n",
              "    <tr>\n",
              "      <th>1</th>\n",
              "      <td>1</td>\n",
              "      <td>1</td>\n",
              "      <td>female</td>\n",
              "      <td>38.0</td>\n",
              "      <td>1</td>\n",
              "      <td>0</td>\n",
              "      <td>71.2833</td>\n",
              "      <td>C</td>\n",
              "      <td>First</td>\n",
              "      <td>woman</td>\n",
              "      <td>False</td>\n",
              "      <td>C</td>\n",
              "      <td>Cherbourg</td>\n",
              "      <td>yes</td>\n",
              "      <td>False</td>\n",
              "    </tr>\n",
              "    <tr>\n",
              "      <th>2</th>\n",
              "      <td>1</td>\n",
              "      <td>3</td>\n",
              "      <td>female</td>\n",
              "      <td>26.0</td>\n",
              "      <td>0</td>\n",
              "      <td>0</td>\n",
              "      <td>7.9250</td>\n",
              "      <td>S</td>\n",
              "      <td>Third</td>\n",
              "      <td>woman</td>\n",
              "      <td>False</td>\n",
              "      <td>NaN</td>\n",
              "      <td>Southampton</td>\n",
              "      <td>yes</td>\n",
              "      <td>True</td>\n",
              "    </tr>\n",
              "    <tr>\n",
              "      <th>3</th>\n",
              "      <td>1</td>\n",
              "      <td>1</td>\n",
              "      <td>female</td>\n",
              "      <td>35.0</td>\n",
              "      <td>1</td>\n",
              "      <td>0</td>\n",
              "      <td>53.1000</td>\n",
              "      <td>S</td>\n",
              "      <td>First</td>\n",
              "      <td>woman</td>\n",
              "      <td>False</td>\n",
              "      <td>C</td>\n",
              "      <td>Southampton</td>\n",
              "      <td>yes</td>\n",
              "      <td>False</td>\n",
              "    </tr>\n",
              "    <tr>\n",
              "      <th>4</th>\n",
              "      <td>0</td>\n",
              "      <td>3</td>\n",
              "      <td>male</td>\n",
              "      <td>35.0</td>\n",
              "      <td>0</td>\n",
              "      <td>0</td>\n",
              "      <td>8.0500</td>\n",
              "      <td>S</td>\n",
              "      <td>Third</td>\n",
              "      <td>man</td>\n",
              "      <td>True</td>\n",
              "      <td>NaN</td>\n",
              "      <td>Southampton</td>\n",
              "      <td>no</td>\n",
              "      <td>True</td>\n",
              "    </tr>\n",
              "  </tbody>\n",
              "</table>\n",
              "</div>\n",
              "    <div class=\"colab-df-buttons\">\n",
              "\n",
              "  <div class=\"colab-df-container\">\n",
              "    <button class=\"colab-df-convert\" onclick=\"convertToInteractive('df-0dc3730a-a8a5-435f-a2cc-4634df8b9e3e')\"\n",
              "            title=\"Convert this dataframe to an interactive table.\"\n",
              "            style=\"display:none;\">\n",
              "\n",
              "  <svg xmlns=\"http://www.w3.org/2000/svg\" height=\"24px\" viewBox=\"0 -960 960 960\">\n",
              "    <path d=\"M120-120v-720h720v720H120Zm60-500h600v-160H180v160Zm220 220h160v-160H400v160Zm0 220h160v-160H400v160ZM180-400h160v-160H180v160Zm440 0h160v-160H620v160ZM180-180h160v-160H180v160Zm440 0h160v-160H620v160Z\"/>\n",
              "  </svg>\n",
              "    </button>\n",
              "\n",
              "  <style>\n",
              "    .colab-df-container {\n",
              "      display:flex;\n",
              "      gap: 12px;\n",
              "    }\n",
              "\n",
              "    .colab-df-convert {\n",
              "      background-color: #E8F0FE;\n",
              "      border: none;\n",
              "      border-radius: 50%;\n",
              "      cursor: pointer;\n",
              "      display: none;\n",
              "      fill: #1967D2;\n",
              "      height: 32px;\n",
              "      padding: 0 0 0 0;\n",
              "      width: 32px;\n",
              "    }\n",
              "\n",
              "    .colab-df-convert:hover {\n",
              "      background-color: #E2EBFA;\n",
              "      box-shadow: 0px 1px 2px rgba(60, 64, 67, 0.3), 0px 1px 3px 1px rgba(60, 64, 67, 0.15);\n",
              "      fill: #174EA6;\n",
              "    }\n",
              "\n",
              "    .colab-df-buttons div {\n",
              "      margin-bottom: 4px;\n",
              "    }\n",
              "\n",
              "    [theme=dark] .colab-df-convert {\n",
              "      background-color: #3B4455;\n",
              "      fill: #D2E3FC;\n",
              "    }\n",
              "\n",
              "    [theme=dark] .colab-df-convert:hover {\n",
              "      background-color: #434B5C;\n",
              "      box-shadow: 0px 1px 3px 1px rgba(0, 0, 0, 0.15);\n",
              "      filter: drop-shadow(0px 1px 2px rgba(0, 0, 0, 0.3));\n",
              "      fill: #FFFFFF;\n",
              "    }\n",
              "  </style>\n",
              "\n",
              "    <script>\n",
              "      const buttonEl =\n",
              "        document.querySelector('#df-0dc3730a-a8a5-435f-a2cc-4634df8b9e3e button.colab-df-convert');\n",
              "      buttonEl.style.display =\n",
              "        google.colab.kernel.accessAllowed ? 'block' : 'none';\n",
              "\n",
              "      async function convertToInteractive(key) {\n",
              "        const element = document.querySelector('#df-0dc3730a-a8a5-435f-a2cc-4634df8b9e3e');\n",
              "        const dataTable =\n",
              "          await google.colab.kernel.invokeFunction('convertToInteractive',\n",
              "                                                    [key], {});\n",
              "        if (!dataTable) return;\n",
              "\n",
              "        const docLinkHtml = 'Like what you see? Visit the ' +\n",
              "          '<a target=\"_blank\" href=https://colab.research.google.com/notebooks/data_table.ipynb>data table notebook</a>'\n",
              "          + ' to learn more about interactive tables.';\n",
              "        element.innerHTML = '';\n",
              "        dataTable['output_type'] = 'display_data';\n",
              "        await google.colab.output.renderOutput(dataTable, element);\n",
              "        const docLink = document.createElement('div');\n",
              "        docLink.innerHTML = docLinkHtml;\n",
              "        element.appendChild(docLink);\n",
              "      }\n",
              "    </script>\n",
              "  </div>\n",
              "\n",
              "\n",
              "    <div id=\"df-f74785b3-8c99-4294-8882-9e1d62ad27d0\">\n",
              "      <button class=\"colab-df-quickchart\" onclick=\"quickchart('df-f74785b3-8c99-4294-8882-9e1d62ad27d0')\"\n",
              "                title=\"Suggest charts\"\n",
              "                style=\"display:none;\">\n",
              "\n",
              "<svg xmlns=\"http://www.w3.org/2000/svg\" height=\"24px\"viewBox=\"0 0 24 24\"\n",
              "     width=\"24px\">\n",
              "    <g>\n",
              "        <path d=\"M19 3H5c-1.1 0-2 .9-2 2v14c0 1.1.9 2 2 2h14c1.1 0 2-.9 2-2V5c0-1.1-.9-2-2-2zM9 17H7v-7h2v7zm4 0h-2V7h2v10zm4 0h-2v-4h2v4z\"/>\n",
              "    </g>\n",
              "</svg>\n",
              "      </button>\n",
              "\n",
              "<style>\n",
              "  .colab-df-quickchart {\n",
              "      --bg-color: #E8F0FE;\n",
              "      --fill-color: #1967D2;\n",
              "      --hover-bg-color: #E2EBFA;\n",
              "      --hover-fill-color: #174EA6;\n",
              "      --disabled-fill-color: #AAA;\n",
              "      --disabled-bg-color: #DDD;\n",
              "  }\n",
              "\n",
              "  [theme=dark] .colab-df-quickchart {\n",
              "      --bg-color: #3B4455;\n",
              "      --fill-color: #D2E3FC;\n",
              "      --hover-bg-color: #434B5C;\n",
              "      --hover-fill-color: #FFFFFF;\n",
              "      --disabled-bg-color: #3B4455;\n",
              "      --disabled-fill-color: #666;\n",
              "  }\n",
              "\n",
              "  .colab-df-quickchart {\n",
              "    background-color: var(--bg-color);\n",
              "    border: none;\n",
              "    border-radius: 50%;\n",
              "    cursor: pointer;\n",
              "    display: none;\n",
              "    fill: var(--fill-color);\n",
              "    height: 32px;\n",
              "    padding: 0;\n",
              "    width: 32px;\n",
              "  }\n",
              "\n",
              "  .colab-df-quickchart:hover {\n",
              "    background-color: var(--hover-bg-color);\n",
              "    box-shadow: 0 1px 2px rgba(60, 64, 67, 0.3), 0 1px 3px 1px rgba(60, 64, 67, 0.15);\n",
              "    fill: var(--button-hover-fill-color);\n",
              "  }\n",
              "\n",
              "  .colab-df-quickchart-complete:disabled,\n",
              "  .colab-df-quickchart-complete:disabled:hover {\n",
              "    background-color: var(--disabled-bg-color);\n",
              "    fill: var(--disabled-fill-color);\n",
              "    box-shadow: none;\n",
              "  }\n",
              "\n",
              "  .colab-df-spinner {\n",
              "    border: 2px solid var(--fill-color);\n",
              "    border-color: transparent;\n",
              "    border-bottom-color: var(--fill-color);\n",
              "    animation:\n",
              "      spin 1s steps(1) infinite;\n",
              "  }\n",
              "\n",
              "  @keyframes spin {\n",
              "    0% {\n",
              "      border-color: transparent;\n",
              "      border-bottom-color: var(--fill-color);\n",
              "      border-left-color: var(--fill-color);\n",
              "    }\n",
              "    20% {\n",
              "      border-color: transparent;\n",
              "      border-left-color: var(--fill-color);\n",
              "      border-top-color: var(--fill-color);\n",
              "    }\n",
              "    30% {\n",
              "      border-color: transparent;\n",
              "      border-left-color: var(--fill-color);\n",
              "      border-top-color: var(--fill-color);\n",
              "      border-right-color: var(--fill-color);\n",
              "    }\n",
              "    40% {\n",
              "      border-color: transparent;\n",
              "      border-right-color: var(--fill-color);\n",
              "      border-top-color: var(--fill-color);\n",
              "    }\n",
              "    60% {\n",
              "      border-color: transparent;\n",
              "      border-right-color: var(--fill-color);\n",
              "    }\n",
              "    80% {\n",
              "      border-color: transparent;\n",
              "      border-right-color: var(--fill-color);\n",
              "      border-bottom-color: var(--fill-color);\n",
              "    }\n",
              "    90% {\n",
              "      border-color: transparent;\n",
              "      border-bottom-color: var(--fill-color);\n",
              "    }\n",
              "  }\n",
              "</style>\n",
              "\n",
              "      <script>\n",
              "        async function quickchart(key) {\n",
              "          const quickchartButtonEl =\n",
              "            document.querySelector('#' + key + ' button');\n",
              "          quickchartButtonEl.disabled = true;  // To prevent multiple clicks.\n",
              "          quickchartButtonEl.classList.add('colab-df-spinner');\n",
              "          try {\n",
              "            const charts = await google.colab.kernel.invokeFunction(\n",
              "                'suggestCharts', [key], {});\n",
              "          } catch (error) {\n",
              "            console.error('Error during call to suggestCharts:', error);\n",
              "          }\n",
              "          quickchartButtonEl.classList.remove('colab-df-spinner');\n",
              "          quickchartButtonEl.classList.add('colab-df-quickchart-complete');\n",
              "        }\n",
              "        (() => {\n",
              "          let quickchartButtonEl =\n",
              "            document.querySelector('#df-f74785b3-8c99-4294-8882-9e1d62ad27d0 button');\n",
              "          quickchartButtonEl.style.display =\n",
              "            google.colab.kernel.accessAllowed ? 'block' : 'none';\n",
              "        })();\n",
              "      </script>\n",
              "    </div>\n",
              "\n",
              "    </div>\n",
              "  </div>\n"
            ],
            "application/vnd.google.colaboratory.intrinsic+json": {
              "type": "dataframe",
              "variable_name": "df",
              "summary": "{\n  \"name\": \"df\",\n  \"rows\": 891,\n  \"fields\": [\n    {\n      \"column\": \"survived\",\n      \"properties\": {\n        \"dtype\": \"number\",\n        \"std\": 0,\n        \"min\": 0,\n        \"max\": 1,\n        \"num_unique_values\": 2,\n        \"samples\": [\n          1,\n          0\n        ],\n        \"semantic_type\": \"\",\n        \"description\": \"\"\n      }\n    },\n    {\n      \"column\": \"pclass\",\n      \"properties\": {\n        \"dtype\": \"number\",\n        \"std\": 0,\n        \"min\": 1,\n        \"max\": 3,\n        \"num_unique_values\": 3,\n        \"samples\": [\n          3,\n          1\n        ],\n        \"semantic_type\": \"\",\n        \"description\": \"\"\n      }\n    },\n    {\n      \"column\": \"sex\",\n      \"properties\": {\n        \"dtype\": \"category\",\n        \"num_unique_values\": 2,\n        \"samples\": [\n          \"female\",\n          \"male\"\n        ],\n        \"semantic_type\": \"\",\n        \"description\": \"\"\n      }\n    },\n    {\n      \"column\": \"age\",\n      \"properties\": {\n        \"dtype\": \"number\",\n        \"std\": 14.526497332334044,\n        \"min\": 0.42,\n        \"max\": 80.0,\n        \"num_unique_values\": 88,\n        \"samples\": [\n          0.75,\n          22.0\n        ],\n        \"semantic_type\": \"\",\n        \"description\": \"\"\n      }\n    },\n    {\n      \"column\": \"sibsp\",\n      \"properties\": {\n        \"dtype\": \"number\",\n        \"std\": 1,\n        \"min\": 0,\n        \"max\": 8,\n        \"num_unique_values\": 7,\n        \"samples\": [\n          1,\n          0\n        ],\n        \"semantic_type\": \"\",\n        \"description\": \"\"\n      }\n    },\n    {\n      \"column\": \"parch\",\n      \"properties\": {\n        \"dtype\": \"number\",\n        \"std\": 0,\n        \"min\": 0,\n        \"max\": 6,\n        \"num_unique_values\": 7,\n        \"samples\": [\n          0,\n          1\n        ],\n        \"semantic_type\": \"\",\n        \"description\": \"\"\n      }\n    },\n    {\n      \"column\": \"fare\",\n      \"properties\": {\n        \"dtype\": \"number\",\n        \"std\": 49.693428597180905,\n        \"min\": 0.0,\n        \"max\": 512.3292,\n        \"num_unique_values\": 248,\n        \"samples\": [\n          11.2417,\n          51.8625\n        ],\n        \"semantic_type\": \"\",\n        \"description\": \"\"\n      }\n    },\n    {\n      \"column\": \"embarked\",\n      \"properties\": {\n        \"dtype\": \"category\",\n        \"num_unique_values\": 3,\n        \"samples\": [\n          \"S\",\n          \"C\"\n        ],\n        \"semantic_type\": \"\",\n        \"description\": \"\"\n      }\n    },\n    {\n      \"column\": \"class\",\n      \"properties\": {\n        \"dtype\": \"category\",\n        \"num_unique_values\": 3,\n        \"samples\": [\n          \"Third\",\n          \"First\"\n        ],\n        \"semantic_type\": \"\",\n        \"description\": \"\"\n      }\n    },\n    {\n      \"column\": \"who\",\n      \"properties\": {\n        \"dtype\": \"category\",\n        \"num_unique_values\": 3,\n        \"samples\": [\n          \"man\",\n          \"woman\"\n        ],\n        \"semantic_type\": \"\",\n        \"description\": \"\"\n      }\n    },\n    {\n      \"column\": \"adult_male\",\n      \"properties\": {\n        \"dtype\": \"boolean\",\n        \"num_unique_values\": 2,\n        \"samples\": [\n          false,\n          true\n        ],\n        \"semantic_type\": \"\",\n        \"description\": \"\"\n      }\n    },\n    {\n      \"column\": \"deck\",\n      \"properties\": {\n        \"dtype\": \"category\",\n        \"num_unique_values\": 7,\n        \"samples\": [\n          \"C\",\n          \"E\"\n        ],\n        \"semantic_type\": \"\",\n        \"description\": \"\"\n      }\n    },\n    {\n      \"column\": \"embark_town\",\n      \"properties\": {\n        \"dtype\": \"category\",\n        \"num_unique_values\": 3,\n        \"samples\": [\n          \"Southampton\",\n          \"Cherbourg\"\n        ],\n        \"semantic_type\": \"\",\n        \"description\": \"\"\n      }\n    },\n    {\n      \"column\": \"alive\",\n      \"properties\": {\n        \"dtype\": \"category\",\n        \"num_unique_values\": 2,\n        \"samples\": [\n          \"yes\",\n          \"no\"\n        ],\n        \"semantic_type\": \"\",\n        \"description\": \"\"\n      }\n    },\n    {\n      \"column\": \"alone\",\n      \"properties\": {\n        \"dtype\": \"boolean\",\n        \"num_unique_values\": 2,\n        \"samples\": [\n          true,\n          false\n        ],\n        \"semantic_type\": \"\",\n        \"description\": \"\"\n      }\n    }\n  ]\n}"
            }
          },
          "metadata": {},
          "execution_count": 6
        }
      ]
    },
    {
      "cell_type": "markdown",
      "source": [
        "# Basic Info and Descriptive Statistics"
      ],
      "metadata": {
        "id": "Ity2sDB-1AAH"
      }
    },
    {
      "cell_type": "code",
      "source": [
        "# Basic info\n",
        "df.info()\n",
        "\n",
        "# Descriptive statistics\n",
        "df.describe(include='all')"
      ],
      "metadata": {
        "colab": {
          "base_uri": "https://localhost:8080/",
          "height": 776
        },
        "id": "O8DKtOYE1BQP",
        "outputId": "dcfa2799-16d3-4982-f3fc-9e610990e4ad"
      },
      "execution_count": null,
      "outputs": [
        {
          "output_type": "stream",
          "name": "stdout",
          "text": [
            "<class 'pandas.core.frame.DataFrame'>\n",
            "RangeIndex: 891 entries, 0 to 890\n",
            "Data columns (total 15 columns):\n",
            " #   Column       Non-Null Count  Dtype   \n",
            "---  ------       --------------  -----   \n",
            " 0   survived     891 non-null    int64   \n",
            " 1   pclass       891 non-null    int64   \n",
            " 2   sex          891 non-null    object  \n",
            " 3   age          714 non-null    float64 \n",
            " 4   sibsp        891 non-null    int64   \n",
            " 5   parch        891 non-null    int64   \n",
            " 6   fare         891 non-null    float64 \n",
            " 7   embarked     889 non-null    object  \n",
            " 8   class        891 non-null    category\n",
            " 9   who          891 non-null    object  \n",
            " 10  adult_male   891 non-null    bool    \n",
            " 11  deck         203 non-null    category\n",
            " 12  embark_town  889 non-null    object  \n",
            " 13  alive        891 non-null    object  \n",
            " 14  alone        891 non-null    bool    \n",
            "dtypes: bool(2), category(2), float64(2), int64(4), object(5)\n",
            "memory usage: 80.7+ KB\n"
          ]
        },
        {
          "output_type": "execute_result",
          "data": {
            "text/plain": [
              "          survived      pclass   sex         age       sibsp       parch  \\\n",
              "count   891.000000  891.000000   891  714.000000  891.000000  891.000000   \n",
              "unique         NaN         NaN     2         NaN         NaN         NaN   \n",
              "top            NaN         NaN  male         NaN         NaN         NaN   \n",
              "freq           NaN         NaN   577         NaN         NaN         NaN   \n",
              "mean      0.383838    2.308642   NaN   29.699118    0.523008    0.381594   \n",
              "std       0.486592    0.836071   NaN   14.526497    1.102743    0.806057   \n",
              "min       0.000000    1.000000   NaN    0.420000    0.000000    0.000000   \n",
              "25%       0.000000    2.000000   NaN   20.125000    0.000000    0.000000   \n",
              "50%       0.000000    3.000000   NaN   28.000000    0.000000    0.000000   \n",
              "75%       1.000000    3.000000   NaN   38.000000    1.000000    0.000000   \n",
              "max       1.000000    3.000000   NaN   80.000000    8.000000    6.000000   \n",
              "\n",
              "              fare embarked  class  who adult_male deck  embark_town alive  \\\n",
              "count   891.000000      889    891  891        891  203          889   891   \n",
              "unique         NaN        3      3    3          2    7            3     2   \n",
              "top            NaN        S  Third  man       True    C  Southampton    no   \n",
              "freq           NaN      644    491  537        537   59          644   549   \n",
              "mean     32.204208      NaN    NaN  NaN        NaN  NaN          NaN   NaN   \n",
              "std      49.693429      NaN    NaN  NaN        NaN  NaN          NaN   NaN   \n",
              "min       0.000000      NaN    NaN  NaN        NaN  NaN          NaN   NaN   \n",
              "25%       7.910400      NaN    NaN  NaN        NaN  NaN          NaN   NaN   \n",
              "50%      14.454200      NaN    NaN  NaN        NaN  NaN          NaN   NaN   \n",
              "75%      31.000000      NaN    NaN  NaN        NaN  NaN          NaN   NaN   \n",
              "max     512.329200      NaN    NaN  NaN        NaN  NaN          NaN   NaN   \n",
              "\n",
              "       alone  \n",
              "count    891  \n",
              "unique     2  \n",
              "top     True  \n",
              "freq     537  \n",
              "mean     NaN  \n",
              "std      NaN  \n",
              "min      NaN  \n",
              "25%      NaN  \n",
              "50%      NaN  \n",
              "75%      NaN  \n",
              "max      NaN  "
            ],
            "text/html": [
              "\n",
              "  <div id=\"df-efbdffdd-6728-4baa-ab36-ffa2fcc6ea9c\" class=\"colab-df-container\">\n",
              "    <div>\n",
              "<style scoped>\n",
              "    .dataframe tbody tr th:only-of-type {\n",
              "        vertical-align: middle;\n",
              "    }\n",
              "\n",
              "    .dataframe tbody tr th {\n",
              "        vertical-align: top;\n",
              "    }\n",
              "\n",
              "    .dataframe thead th {\n",
              "        text-align: right;\n",
              "    }\n",
              "</style>\n",
              "<table border=\"1\" class=\"dataframe\">\n",
              "  <thead>\n",
              "    <tr style=\"text-align: right;\">\n",
              "      <th></th>\n",
              "      <th>survived</th>\n",
              "      <th>pclass</th>\n",
              "      <th>sex</th>\n",
              "      <th>age</th>\n",
              "      <th>sibsp</th>\n",
              "      <th>parch</th>\n",
              "      <th>fare</th>\n",
              "      <th>embarked</th>\n",
              "      <th>class</th>\n",
              "      <th>who</th>\n",
              "      <th>adult_male</th>\n",
              "      <th>deck</th>\n",
              "      <th>embark_town</th>\n",
              "      <th>alive</th>\n",
              "      <th>alone</th>\n",
              "    </tr>\n",
              "  </thead>\n",
              "  <tbody>\n",
              "    <tr>\n",
              "      <th>count</th>\n",
              "      <td>891.000000</td>\n",
              "      <td>891.000000</td>\n",
              "      <td>891</td>\n",
              "      <td>714.000000</td>\n",
              "      <td>891.000000</td>\n",
              "      <td>891.000000</td>\n",
              "      <td>891.000000</td>\n",
              "      <td>889</td>\n",
              "      <td>891</td>\n",
              "      <td>891</td>\n",
              "      <td>891</td>\n",
              "      <td>203</td>\n",
              "      <td>889</td>\n",
              "      <td>891</td>\n",
              "      <td>891</td>\n",
              "    </tr>\n",
              "    <tr>\n",
              "      <th>unique</th>\n",
              "      <td>NaN</td>\n",
              "      <td>NaN</td>\n",
              "      <td>2</td>\n",
              "      <td>NaN</td>\n",
              "      <td>NaN</td>\n",
              "      <td>NaN</td>\n",
              "      <td>NaN</td>\n",
              "      <td>3</td>\n",
              "      <td>3</td>\n",
              "      <td>3</td>\n",
              "      <td>2</td>\n",
              "      <td>7</td>\n",
              "      <td>3</td>\n",
              "      <td>2</td>\n",
              "      <td>2</td>\n",
              "    </tr>\n",
              "    <tr>\n",
              "      <th>top</th>\n",
              "      <td>NaN</td>\n",
              "      <td>NaN</td>\n",
              "      <td>male</td>\n",
              "      <td>NaN</td>\n",
              "      <td>NaN</td>\n",
              "      <td>NaN</td>\n",
              "      <td>NaN</td>\n",
              "      <td>S</td>\n",
              "      <td>Third</td>\n",
              "      <td>man</td>\n",
              "      <td>True</td>\n",
              "      <td>C</td>\n",
              "      <td>Southampton</td>\n",
              "      <td>no</td>\n",
              "      <td>True</td>\n",
              "    </tr>\n",
              "    <tr>\n",
              "      <th>freq</th>\n",
              "      <td>NaN</td>\n",
              "      <td>NaN</td>\n",
              "      <td>577</td>\n",
              "      <td>NaN</td>\n",
              "      <td>NaN</td>\n",
              "      <td>NaN</td>\n",
              "      <td>NaN</td>\n",
              "      <td>644</td>\n",
              "      <td>491</td>\n",
              "      <td>537</td>\n",
              "      <td>537</td>\n",
              "      <td>59</td>\n",
              "      <td>644</td>\n",
              "      <td>549</td>\n",
              "      <td>537</td>\n",
              "    </tr>\n",
              "    <tr>\n",
              "      <th>mean</th>\n",
              "      <td>0.383838</td>\n",
              "      <td>2.308642</td>\n",
              "      <td>NaN</td>\n",
              "      <td>29.699118</td>\n",
              "      <td>0.523008</td>\n",
              "      <td>0.381594</td>\n",
              "      <td>32.204208</td>\n",
              "      <td>NaN</td>\n",
              "      <td>NaN</td>\n",
              "      <td>NaN</td>\n",
              "      <td>NaN</td>\n",
              "      <td>NaN</td>\n",
              "      <td>NaN</td>\n",
              "      <td>NaN</td>\n",
              "      <td>NaN</td>\n",
              "    </tr>\n",
              "    <tr>\n",
              "      <th>std</th>\n",
              "      <td>0.486592</td>\n",
              "      <td>0.836071</td>\n",
              "      <td>NaN</td>\n",
              "      <td>14.526497</td>\n",
              "      <td>1.102743</td>\n",
              "      <td>0.806057</td>\n",
              "      <td>49.693429</td>\n",
              "      <td>NaN</td>\n",
              "      <td>NaN</td>\n",
              "      <td>NaN</td>\n",
              "      <td>NaN</td>\n",
              "      <td>NaN</td>\n",
              "      <td>NaN</td>\n",
              "      <td>NaN</td>\n",
              "      <td>NaN</td>\n",
              "    </tr>\n",
              "    <tr>\n",
              "      <th>min</th>\n",
              "      <td>0.000000</td>\n",
              "      <td>1.000000</td>\n",
              "      <td>NaN</td>\n",
              "      <td>0.420000</td>\n",
              "      <td>0.000000</td>\n",
              "      <td>0.000000</td>\n",
              "      <td>0.000000</td>\n",
              "      <td>NaN</td>\n",
              "      <td>NaN</td>\n",
              "      <td>NaN</td>\n",
              "      <td>NaN</td>\n",
              "      <td>NaN</td>\n",
              "      <td>NaN</td>\n",
              "      <td>NaN</td>\n",
              "      <td>NaN</td>\n",
              "    </tr>\n",
              "    <tr>\n",
              "      <th>25%</th>\n",
              "      <td>0.000000</td>\n",
              "      <td>2.000000</td>\n",
              "      <td>NaN</td>\n",
              "      <td>20.125000</td>\n",
              "      <td>0.000000</td>\n",
              "      <td>0.000000</td>\n",
              "      <td>7.910400</td>\n",
              "      <td>NaN</td>\n",
              "      <td>NaN</td>\n",
              "      <td>NaN</td>\n",
              "      <td>NaN</td>\n",
              "      <td>NaN</td>\n",
              "      <td>NaN</td>\n",
              "      <td>NaN</td>\n",
              "      <td>NaN</td>\n",
              "    </tr>\n",
              "    <tr>\n",
              "      <th>50%</th>\n",
              "      <td>0.000000</td>\n",
              "      <td>3.000000</td>\n",
              "      <td>NaN</td>\n",
              "      <td>28.000000</td>\n",
              "      <td>0.000000</td>\n",
              "      <td>0.000000</td>\n",
              "      <td>14.454200</td>\n",
              "      <td>NaN</td>\n",
              "      <td>NaN</td>\n",
              "      <td>NaN</td>\n",
              "      <td>NaN</td>\n",
              "      <td>NaN</td>\n",
              "      <td>NaN</td>\n",
              "      <td>NaN</td>\n",
              "      <td>NaN</td>\n",
              "    </tr>\n",
              "    <tr>\n",
              "      <th>75%</th>\n",
              "      <td>1.000000</td>\n",
              "      <td>3.000000</td>\n",
              "      <td>NaN</td>\n",
              "      <td>38.000000</td>\n",
              "      <td>1.000000</td>\n",
              "      <td>0.000000</td>\n",
              "      <td>31.000000</td>\n",
              "      <td>NaN</td>\n",
              "      <td>NaN</td>\n",
              "      <td>NaN</td>\n",
              "      <td>NaN</td>\n",
              "      <td>NaN</td>\n",
              "      <td>NaN</td>\n",
              "      <td>NaN</td>\n",
              "      <td>NaN</td>\n",
              "    </tr>\n",
              "    <tr>\n",
              "      <th>max</th>\n",
              "      <td>1.000000</td>\n",
              "      <td>3.000000</td>\n",
              "      <td>NaN</td>\n",
              "      <td>80.000000</td>\n",
              "      <td>8.000000</td>\n",
              "      <td>6.000000</td>\n",
              "      <td>512.329200</td>\n",
              "      <td>NaN</td>\n",
              "      <td>NaN</td>\n",
              "      <td>NaN</td>\n",
              "      <td>NaN</td>\n",
              "      <td>NaN</td>\n",
              "      <td>NaN</td>\n",
              "      <td>NaN</td>\n",
              "      <td>NaN</td>\n",
              "    </tr>\n",
              "  </tbody>\n",
              "</table>\n",
              "</div>\n",
              "    <div class=\"colab-df-buttons\">\n",
              "\n",
              "  <div class=\"colab-df-container\">\n",
              "    <button class=\"colab-df-convert\" onclick=\"convertToInteractive('df-efbdffdd-6728-4baa-ab36-ffa2fcc6ea9c')\"\n",
              "            title=\"Convert this dataframe to an interactive table.\"\n",
              "            style=\"display:none;\">\n",
              "\n",
              "  <svg xmlns=\"http://www.w3.org/2000/svg\" height=\"24px\" viewBox=\"0 -960 960 960\">\n",
              "    <path d=\"M120-120v-720h720v720H120Zm60-500h600v-160H180v160Zm220 220h160v-160H400v160Zm0 220h160v-160H400v160ZM180-400h160v-160H180v160Zm440 0h160v-160H620v160ZM180-180h160v-160H180v160Zm440 0h160v-160H620v160Z\"/>\n",
              "  </svg>\n",
              "    </button>\n",
              "\n",
              "  <style>\n",
              "    .colab-df-container {\n",
              "      display:flex;\n",
              "      gap: 12px;\n",
              "    }\n",
              "\n",
              "    .colab-df-convert {\n",
              "      background-color: #E8F0FE;\n",
              "      border: none;\n",
              "      border-radius: 50%;\n",
              "      cursor: pointer;\n",
              "      display: none;\n",
              "      fill: #1967D2;\n",
              "      height: 32px;\n",
              "      padding: 0 0 0 0;\n",
              "      width: 32px;\n",
              "    }\n",
              "\n",
              "    .colab-df-convert:hover {\n",
              "      background-color: #E2EBFA;\n",
              "      box-shadow: 0px 1px 2px rgba(60, 64, 67, 0.3), 0px 1px 3px 1px rgba(60, 64, 67, 0.15);\n",
              "      fill: #174EA6;\n",
              "    }\n",
              "\n",
              "    .colab-df-buttons div {\n",
              "      margin-bottom: 4px;\n",
              "    }\n",
              "\n",
              "    [theme=dark] .colab-df-convert {\n",
              "      background-color: #3B4455;\n",
              "      fill: #D2E3FC;\n",
              "    }\n",
              "\n",
              "    [theme=dark] .colab-df-convert:hover {\n",
              "      background-color: #434B5C;\n",
              "      box-shadow: 0px 1px 3px 1px rgba(0, 0, 0, 0.15);\n",
              "      filter: drop-shadow(0px 1px 2px rgba(0, 0, 0, 0.3));\n",
              "      fill: #FFFFFF;\n",
              "    }\n",
              "  </style>\n",
              "\n",
              "    <script>\n",
              "      const buttonEl =\n",
              "        document.querySelector('#df-efbdffdd-6728-4baa-ab36-ffa2fcc6ea9c button.colab-df-convert');\n",
              "      buttonEl.style.display =\n",
              "        google.colab.kernel.accessAllowed ? 'block' : 'none';\n",
              "\n",
              "      async function convertToInteractive(key) {\n",
              "        const element = document.querySelector('#df-efbdffdd-6728-4baa-ab36-ffa2fcc6ea9c');\n",
              "        const dataTable =\n",
              "          await google.colab.kernel.invokeFunction('convertToInteractive',\n",
              "                                                    [key], {});\n",
              "        if (!dataTable) return;\n",
              "\n",
              "        const docLinkHtml = 'Like what you see? Visit the ' +\n",
              "          '<a target=\"_blank\" href=https://colab.research.google.com/notebooks/data_table.ipynb>data table notebook</a>'\n",
              "          + ' to learn more about interactive tables.';\n",
              "        element.innerHTML = '';\n",
              "        dataTable['output_type'] = 'display_data';\n",
              "        await google.colab.output.renderOutput(dataTable, element);\n",
              "        const docLink = document.createElement('div');\n",
              "        docLink.innerHTML = docLinkHtml;\n",
              "        element.appendChild(docLink);\n",
              "      }\n",
              "    </script>\n",
              "  </div>\n",
              "\n",
              "\n",
              "    <div id=\"df-60a58a48-4052-47ef-b611-11f1c15ca206\">\n",
              "      <button class=\"colab-df-quickchart\" onclick=\"quickchart('df-60a58a48-4052-47ef-b611-11f1c15ca206')\"\n",
              "                title=\"Suggest charts\"\n",
              "                style=\"display:none;\">\n",
              "\n",
              "<svg xmlns=\"http://www.w3.org/2000/svg\" height=\"24px\"viewBox=\"0 0 24 24\"\n",
              "     width=\"24px\">\n",
              "    <g>\n",
              "        <path d=\"M19 3H5c-1.1 0-2 .9-2 2v14c0 1.1.9 2 2 2h14c1.1 0 2-.9 2-2V5c0-1.1-.9-2-2-2zM9 17H7v-7h2v7zm4 0h-2V7h2v10zm4 0h-2v-4h2v4z\"/>\n",
              "    </g>\n",
              "</svg>\n",
              "      </button>\n",
              "\n",
              "<style>\n",
              "  .colab-df-quickchart {\n",
              "      --bg-color: #E8F0FE;\n",
              "      --fill-color: #1967D2;\n",
              "      --hover-bg-color: #E2EBFA;\n",
              "      --hover-fill-color: #174EA6;\n",
              "      --disabled-fill-color: #AAA;\n",
              "      --disabled-bg-color: #DDD;\n",
              "  }\n",
              "\n",
              "  [theme=dark] .colab-df-quickchart {\n",
              "      --bg-color: #3B4455;\n",
              "      --fill-color: #D2E3FC;\n",
              "      --hover-bg-color: #434B5C;\n",
              "      --hover-fill-color: #FFFFFF;\n",
              "      --disabled-bg-color: #3B4455;\n",
              "      --disabled-fill-color: #666;\n",
              "  }\n",
              "\n",
              "  .colab-df-quickchart {\n",
              "    background-color: var(--bg-color);\n",
              "    border: none;\n",
              "    border-radius: 50%;\n",
              "    cursor: pointer;\n",
              "    display: none;\n",
              "    fill: var(--fill-color);\n",
              "    height: 32px;\n",
              "    padding: 0;\n",
              "    width: 32px;\n",
              "  }\n",
              "\n",
              "  .colab-df-quickchart:hover {\n",
              "    background-color: var(--hover-bg-color);\n",
              "    box-shadow: 0 1px 2px rgba(60, 64, 67, 0.3), 0 1px 3px 1px rgba(60, 64, 67, 0.15);\n",
              "    fill: var(--button-hover-fill-color);\n",
              "  }\n",
              "\n",
              "  .colab-df-quickchart-complete:disabled,\n",
              "  .colab-df-quickchart-complete:disabled:hover {\n",
              "    background-color: var(--disabled-bg-color);\n",
              "    fill: var(--disabled-fill-color);\n",
              "    box-shadow: none;\n",
              "  }\n",
              "\n",
              "  .colab-df-spinner {\n",
              "    border: 2px solid var(--fill-color);\n",
              "    border-color: transparent;\n",
              "    border-bottom-color: var(--fill-color);\n",
              "    animation:\n",
              "      spin 1s steps(1) infinite;\n",
              "  }\n",
              "\n",
              "  @keyframes spin {\n",
              "    0% {\n",
              "      border-color: transparent;\n",
              "      border-bottom-color: var(--fill-color);\n",
              "      border-left-color: var(--fill-color);\n",
              "    }\n",
              "    20% {\n",
              "      border-color: transparent;\n",
              "      border-left-color: var(--fill-color);\n",
              "      border-top-color: var(--fill-color);\n",
              "    }\n",
              "    30% {\n",
              "      border-color: transparent;\n",
              "      border-left-color: var(--fill-color);\n",
              "      border-top-color: var(--fill-color);\n",
              "      border-right-color: var(--fill-color);\n",
              "    }\n",
              "    40% {\n",
              "      border-color: transparent;\n",
              "      border-right-color: var(--fill-color);\n",
              "      border-top-color: var(--fill-color);\n",
              "    }\n",
              "    60% {\n",
              "      border-color: transparent;\n",
              "      border-right-color: var(--fill-color);\n",
              "    }\n",
              "    80% {\n",
              "      border-color: transparent;\n",
              "      border-right-color: var(--fill-color);\n",
              "      border-bottom-color: var(--fill-color);\n",
              "    }\n",
              "    90% {\n",
              "      border-color: transparent;\n",
              "      border-bottom-color: var(--fill-color);\n",
              "    }\n",
              "  }\n",
              "</style>\n",
              "\n",
              "      <script>\n",
              "        async function quickchart(key) {\n",
              "          const quickchartButtonEl =\n",
              "            document.querySelector('#' + key + ' button');\n",
              "          quickchartButtonEl.disabled = true;  // To prevent multiple clicks.\n",
              "          quickchartButtonEl.classList.add('colab-df-spinner');\n",
              "          try {\n",
              "            const charts = await google.colab.kernel.invokeFunction(\n",
              "                'suggestCharts', [key], {});\n",
              "          } catch (error) {\n",
              "            console.error('Error during call to suggestCharts:', error);\n",
              "          }\n",
              "          quickchartButtonEl.classList.remove('colab-df-spinner');\n",
              "          quickchartButtonEl.classList.add('colab-df-quickchart-complete');\n",
              "        }\n",
              "        (() => {\n",
              "          let quickchartButtonEl =\n",
              "            document.querySelector('#df-60a58a48-4052-47ef-b611-11f1c15ca206 button');\n",
              "          quickchartButtonEl.style.display =\n",
              "            google.colab.kernel.accessAllowed ? 'block' : 'none';\n",
              "        })();\n",
              "      </script>\n",
              "    </div>\n",
              "\n",
              "    </div>\n",
              "  </div>\n"
            ],
            "application/vnd.google.colaboratory.intrinsic+json": {
              "type": "dataframe",
              "summary": "{\n  \"name\": \"df\",\n  \"rows\": 11,\n  \"fields\": [\n    {\n      \"column\": \"survived\",\n      \"properties\": {\n        \"dtype\": \"number\",\n        \"std\": 314.8713661874558,\n        \"min\": 0.0,\n        \"max\": 891.0,\n        \"num_unique_values\": 5,\n        \"samples\": [\n          0.3838383838383838,\n          1.0,\n          0.4865924542648585\n        ],\n        \"semantic_type\": \"\",\n        \"description\": \"\"\n      }\n    },\n    {\n      \"column\": \"pclass\",\n      \"properties\": {\n        \"dtype\": \"number\",\n        \"std\": 314.2523437079693,\n        \"min\": 0.8360712409770513,\n        \"max\": 891.0,\n        \"num_unique_values\": 6,\n        \"samples\": [\n          891.0,\n          2.308641975308642,\n          3.0\n        ],\n        \"semantic_type\": \"\",\n        \"description\": \"\"\n      }\n    },\n    {\n      \"column\": \"sex\",\n      \"properties\": {\n        \"dtype\": \"category\",\n        \"num_unique_values\": 4,\n        \"samples\": [\n          2,\n          \"577\",\n          \"891\"\n        ],\n        \"semantic_type\": \"\",\n        \"description\": \"\"\n      }\n    },\n    {\n      \"column\": \"age\",\n      \"properties\": {\n        \"dtype\": \"number\",\n        \"std\": 242.9056731818781,\n        \"min\": 0.42,\n        \"max\": 714.0,\n        \"num_unique_values\": 8,\n        \"samples\": [\n          29.69911764705882,\n          28.0,\n          714.0\n        ],\n        \"semantic_type\": \"\",\n        \"description\": \"\"\n      }\n    },\n    {\n      \"column\": \"sibsp\",\n      \"properties\": {\n        \"dtype\": \"number\",\n        \"std\": 314.4908277465442,\n        \"min\": 0.0,\n        \"max\": 891.0,\n        \"num_unique_values\": 6,\n        \"samples\": [\n          891.0,\n          0.5230078563411896,\n          8.0\n        ],\n        \"semantic_type\": \"\",\n        \"description\": \"\"\n      }\n    },\n    {\n      \"column\": \"parch\",\n      \"properties\": {\n        \"dtype\": \"number\",\n        \"std\": 314.65971717879,\n        \"min\": 0.0,\n        \"max\": 891.0,\n        \"num_unique_values\": 5,\n        \"samples\": [\n          0.38159371492704824,\n          6.0,\n          0.8060572211299559\n        ],\n        \"semantic_type\": \"\",\n        \"description\": \"\"\n      }\n    },\n    {\n      \"column\": \"fare\",\n      \"properties\": {\n        \"dtype\": \"number\",\n        \"std\": 330.6256632228577,\n        \"min\": 0.0,\n        \"max\": 891.0,\n        \"num_unique_values\": 8,\n        \"samples\": [\n          32.204207968574636,\n          14.4542,\n          891.0\n        ],\n        \"semantic_type\": \"\",\n        \"description\": \"\"\n      }\n    },\n    {\n      \"column\": \"embarked\",\n      \"properties\": {\n        \"dtype\": \"category\",\n        \"num_unique_values\": 4,\n        \"samples\": [\n          3,\n          \"644\",\n          \"889\"\n        ],\n        \"semantic_type\": \"\",\n        \"description\": \"\"\n      }\n    },\n    {\n      \"column\": \"class\",\n      \"properties\": {\n        \"dtype\": \"category\",\n        \"num_unique_values\": 4,\n        \"samples\": [\n          3,\n          \"491\",\n          \"891\"\n        ],\n        \"semantic_type\": \"\",\n        \"description\": \"\"\n      }\n    },\n    {\n      \"column\": \"who\",\n      \"properties\": {\n        \"dtype\": \"category\",\n        \"num_unique_values\": 4,\n        \"samples\": [\n          3,\n          \"537\",\n          \"891\"\n        ],\n        \"semantic_type\": \"\",\n        \"description\": \"\"\n      }\n    },\n    {\n      \"column\": \"adult_male\",\n      \"properties\": {\n        \"dtype\": \"category\",\n        \"num_unique_values\": 4,\n        \"samples\": [\n          2,\n          \"537\",\n          \"891\"\n        ],\n        \"semantic_type\": \"\",\n        \"description\": \"\"\n      }\n    },\n    {\n      \"column\": \"deck\",\n      \"properties\": {\n        \"dtype\": \"category\",\n        \"num_unique_values\": 4,\n        \"samples\": [\n          7,\n          \"59\",\n          \"203\"\n        ],\n        \"semantic_type\": \"\",\n        \"description\": \"\"\n      }\n    },\n    {\n      \"column\": \"embark_town\",\n      \"properties\": {\n        \"dtype\": \"category\",\n        \"num_unique_values\": 4,\n        \"samples\": [\n          3,\n          \"644\",\n          \"889\"\n        ],\n        \"semantic_type\": \"\",\n        \"description\": \"\"\n      }\n    },\n    {\n      \"column\": \"alive\",\n      \"properties\": {\n        \"dtype\": \"category\",\n        \"num_unique_values\": 4,\n        \"samples\": [\n          2,\n          \"549\",\n          \"891\"\n        ],\n        \"semantic_type\": \"\",\n        \"description\": \"\"\n      }\n    },\n    {\n      \"column\": \"alone\",\n      \"properties\": {\n        \"dtype\": \"category\",\n        \"num_unique_values\": 4,\n        \"samples\": [\n          2,\n          \"537\",\n          \"891\"\n        ],\n        \"semantic_type\": \"\",\n        \"description\": \"\"\n      }\n    }\n  ]\n}"
            }
          },
          "metadata": {},
          "execution_count": 7
        }
      ]
    },
    {
      "cell_type": "markdown",
      "source": [
        "# Univariate Data Analysis"
      ],
      "metadata": {
        "id": "Zzp1aALB1L2P"
      }
    },
    {
      "cell_type": "markdown",
      "source": [
        "Descriptive Statistics: **Age**"
      ],
      "metadata": {
        "id": "swLOrMlW1QMI"
      }
    },
    {
      "cell_type": "code",
      "source": [
        "print(df['age'].describe())"
      ],
      "metadata": {
        "colab": {
          "base_uri": "https://localhost:8080/"
        },
        "id": "7P6qTwYj1NFI",
        "outputId": "be4993ca-9d30-4009-e442-33e26e24fa7b"
      },
      "execution_count": null,
      "outputs": [
        {
          "output_type": "stream",
          "name": "stdout",
          "text": [
            "count    714.000000\n",
            "mean      29.699118\n",
            "std       14.526497\n",
            "min        0.420000\n",
            "25%       20.125000\n",
            "50%       28.000000\n",
            "75%       38.000000\n",
            "max       80.000000\n",
            "Name: age, dtype: float64\n"
          ]
        }
      ]
    },
    {
      "cell_type": "markdown",
      "source": [
        "# Univariate Distribution Plot: Age"
      ],
      "metadata": {
        "id": "fW3DXICy1ZAf"
      }
    },
    {
      "cell_type": "markdown",
      "source": [
        "# Univariate Comparison Plot: Age by Gender"
      ],
      "metadata": {
        "id": "9suwZKj11jeI"
      }
    },
    {
      "cell_type": "code",
      "source": [
        "sns.boxplot(x='sex', y='age', data=df)\n",
        "plt.title(\"Age Distribution by Gender\")\n",
        "plt.show()"
      ],
      "metadata": {
        "colab": {
          "base_uri": "https://localhost:8080/",
          "height": 472
        },
        "id": "7onb_oER1kj4",
        "outputId": "88a83e72-fc12-407a-c5ce-f74f3345b7c8"
      },
      "execution_count": null,
      "outputs": [
        {
          "output_type": "display_data",
          "data": {
            "text/plain": [
              "<Figure size 640x480 with 1 Axes>"
            ],
            "image/png": "[encoded data removed]"
          },
          "metadata": {}
        }
      ]
    },
    {
      "cell_type": "markdown",
      "source": [
        "# Univariate Composition Plot: Passenger Class"
      ],
      "metadata": {
        "id": "uBqkVhgU1sK4"
      }
    },
    {
      "cell_type": "code",
      "source": [
        "sns.countplot(x='pclass', data=df)\n",
        "plt.title(\"Passenger Class Distribution\")\n",
        "plt.xlabel(\"Passenger Class (1 = Upper, 2 = Middle, 3 = Lower)\")\n",
        "plt.show()"
      ],
      "metadata": {
        "colab": {
          "base_uri": "https://localhost:8080/",
          "height": 472
        },
        "id": "pE5Y7M9M1t8X",
        "outputId": "1629f999-d9bb-45ef-a48f-dd0878ed1016"
      },
      "execution_count": null,
      "outputs": [
        {
          "output_type": "display_data",
          "data": {
            "text/plain": [
              "<Figure size 640x480 with 1 Axes>"
            ],
            "image/png": "[encoded data removed]"
          },
          "metadata": {}
        }
      ]
    },
    {
      "cell_type": "markdown",
      "source": [
        "# Composition Plot: Survival Count"
      ],
      "metadata": {
        "id": "YN3pdwpT19IA"
      }
    },
    {
      "cell_type": "code",
      "source": [
        "sns.countplot(x='survived', data=df)\n",
        "plt.title(\"Survival Count\")\n",
        "plt.xticks([0, 1], ['Did Not Survive', 'Survived'])\n",
        "plt.show()"
      ],
      "metadata": {
        "colab": {
          "base_uri": "https://localhost:8080/",
          "height": 472
        },
        "id": "DBN07K851-Xo",
        "outputId": "652571f6-5ffb-4b6c-d187-b8b608789045"
      },
      "execution_count": null,
      "outputs": [
        {
          "output_type": "display_data",
          "data": {
            "text/plain": [
              "<Figure size 640x480 with 1 Axes>"
            ],
            "image/png": "[encoded data removed]"
          },
          "metadata": {}
        }
      ]
    },
    {
      "cell_type": "markdown",
      "source": [
        "Univariate Analysis Tests\n",
        "\n",
        "These are statistical tests applied to a single variable to make inferences about the population from which the data was drawn.\n",
        "\n",
        "Hypothesis Testing\n",
        "\n",
        "🔹 What is it?\n",
        "\n",
        "A process to determine whether there is enough evidence in a sample to support a claim about the population.\n",
        "\n",
        "🔸 Steps in Hypothesis Testing:\n",
        "\n",
        "Define Hypotheses:\n",
        "\n",
        "Null Hypothesis (\n",
        "H\n",
        "0\n",
        "​\n",
        " ): No effect or difference.\n",
        "\n",
        " Alternative Hypothesis (\n",
        "H\n",
        "1\n",
        "​\n",
        " ): There is an effect or difference.\n",
        "\n",
        "Choose a Significance Level (\n",
        "𝛼\n",
        "α): Commonly 0.05\n",
        "\n",
        "Select a Test (based on data type and assumption)\n",
        "\n",
        "Compute Test Statistic: (e.g., t, z, chi-square)\n",
        "\n",
        "Find p-value: Probability of observing the data if\n",
        "H\n",
        "0\n",
        "​\n",
        "  is true\n",
        "\n",
        "**Decision:**\n",
        "\n",
        "If p≤α: Reject\n",
        "H\n",
        "0\n",
        "\n",
        "If\n",
        "p>α: Fail to reject\n",
        "H\n",
        "0\n",
        "​\n",
        "\n",
        "\n",
        "\n",
        "  ![image.png](data:image/png;base64,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)\n",
        "\n",
        "  ![image.png](data:image/png;base64,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)\n",
        "\n",
        "  ![image.png](data:image/png;base64,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)"
      ],
      "metadata": {
        "id": "tl0ekDC15A93"
      }
    },
    {
      "cell_type": "markdown",
      "source": [
        "Python Examples: Using Titanic Dataset"
      ],
      "metadata": {
        "id": "BmqLrzRQ8G23"
      }
    },
    {
      "cell_type": "code",
      "source": [
        "import seaborn as sns\n",
        "import pandas as pd\n",
        "import matplotlib.pyplot as plt\n",
        "\n",
        "# Load dataset\n",
        "df = sns.load_dataset('titanic')\n",
        "\n",
        "# Select numerical columns\n",
        "num_cols = df[['age', 'fare', 'pclass']].dropna()\n",
        "\n",
        "# Covariance matrix\n",
        "cov_matrix = num_cols.cov()\n",
        "print(\"Covariance:\\n\", cov_matrix)\n",
        "\n",
        "# Correlation matrix\n",
        "corr_matrix = num_cols.corr()\n",
        "print(\"\\nCorrelation:\\n\", corr_matrix)"
      ],
      "metadata": {
        "colab": {
          "base_uri": "https://localhost:8080/"
        },
        "id": "IdARrZpF8HwX",
        "outputId": "f25db0a1-84ad-492b-bdcf-f530611dceba"
      },
      "execution_count": null,
      "outputs": [
        {
          "output_type": "stream",
          "name": "stdout",
          "text": [
            "Covariance:\n",
            "                age         fare     pclass\n",
            "age     211.019125    73.849030  -4.496004\n",
            "fare     73.849030  2800.413100 -24.583138\n",
            "pclass   -4.496004   -24.583138   0.702663\n",
            "\n",
            "Correlation:\n",
            "              age      fare    pclass\n",
            "age     1.000000  0.096067 -0.369226\n",
            "fare    0.096067  1.000000 -0.554182\n",
            "pclass -0.369226 -0.554182  1.000000\n"
          ]
        }
      ]
    },
    {
      "cell_type": "markdown",
      "source": [
        "Visualizing Correlation"
      ],
      "metadata": {
        "id": "5lXyrIao8M4P"
      }
    },
    {
      "cell_type": "code",
      "source": [
        "# Heatmap of correlation matrix\n",
        "sns.heatmap(corr_matrix, annot=True, cmap='coolwarm')\n",
        "plt.title(\"Correlation Matrix\")\n",
        "plt.show()"
      ],
      "metadata": {
        "id": "QTqZR1uB8Nmv",
        "outputId": "7163faf5-0af3-4e70-9596-0775c781e9cc",
        "colab": {
          "base_uri": "https://localhost:8080/",
          "height": 452
        }
      },
      "execution_count": null,
      "outputs": [
        {
          "output_type": "display_data",
          "data": {
            "text/plain": [
              "<Figure size 640x480 with 2 Axes>"
            ],
            "image/png": "[encoded data removed]"
          },
          "metadata": {}
        }
      ]
    },
    {
      "cell_type": "markdown",
      "source": [
        "# ***WEEK 5***"
      ],
      "metadata": {
        "id": "sqOAPv-ZQC0-"
      }
    },
    {
      "cell_type": "code",
      "source": [
        "import pandas as pd\n",
        "\n",
        "# Sample raw data\n",
        "data = {\n",
        "    'Name': ['Alice', 'Bob', 'Charlie', 'Bob', None],\n",
        "    'Age': [25, None, 35, 30, 22],\n",
        "    'City': ['Delhi', 'Mumbai', 'Bangalore', 'Mumbai', 'Pune']\n",
        "}\n",
        "\n",
        "df = pd.DataFrame(data)\n",
        "\n",
        "# Show original data\n",
        "print(\"Original Data:\")\n",
        "print(df)\n",
        "\n",
        "# 1. Remove duplicates\n",
        "df = df.drop_duplicates()\n",
        "\n",
        "# 2. Remove rows with missing names\n",
        "df = df.dropna(subset=['Name'])\n",
        "\n",
        "# 3. Fill missing age with the mean\n",
        "df['Age'] = df['Age'].fillna(df['Age'].mean())\n",
        "\n",
        "print(\"\\nCleaned Data:\")\n",
        "print(df)\n"
      ],
      "metadata": {
        "colab": {
          "base_uri": "https://localhost:8080/"
        },
        "id": "kRXk_9Y8QSqD",
        "outputId": "3066c57b-6729-4354-e50e-2b3afe55af17"
      },
      "execution_count": 1,
      "outputs": [
        {
          "output_type": "stream",
          "name": "stdout",
          "text": [
            "Original Data:\n",
            "      Name   Age       City\n",
            "0    Alice  25.0      Delhi\n",
            "1      Bob   NaN     Mumbai\n",
            "2  Charlie  35.0  Bangalore\n",
            "3      Bob  30.0     Mumbai\n",
            "4     None  22.0       Pune\n",
            "\n",
            "Cleaned Data:\n",
            "      Name   Age       City\n",
            "0    Alice  25.0      Delhi\n",
            "1      Bob  30.0     Mumbai\n",
            "2  Charlie  35.0  Bangalore\n",
            "3      Bob  30.0     Mumbai\n"
          ]
        }
      ]
    },
    {
      "cell_type": "markdown",
      "source": [
        "ASSESS DATA QUALITY"
      ],
      "metadata": {
        "id": "7cTyKTngQsG1"
      }
    },
    {
      "cell_type": "code",
      "source": [
        "import pandas as pd\n",
        "\n",
        "df = pd.read_csv('/content/Titanic-Dataset.csv')\n",
        "\n",
        "# Check structure and completeness\n",
        "df.info()\n",
        "\n",
        "# Summary statistics\n",
        "df.describe(include='all')\n",
        "\n",
        "# Check for duplicates\n",
        "df.duplicated().sum()"
      ],
      "metadata": {
        "colab": {
          "base_uri": "https://localhost:8080/"
        },
        "id": "dKSnaqJPQ1cc",
        "outputId": "41ec3386-9c82-474d-f124-2902bbbd2bb9"
      },
      "execution_count": 3,
      "outputs": [
        {
          "output_type": "stream",
          "name": "stdout",
          "text": [
            "<class 'pandas.core.frame.DataFrame'>\n",
            "RangeIndex: 891 entries, 0 to 890\n",
            "Data columns (total 12 columns):\n",
            " #   Column       Non-Null Count  Dtype  \n",
            "---  ------       --------------  -----  \n",
            " 0   PassengerId  891 non-null    int64  \n",
            " 1   Survived     891 non-null    int64  \n",
            " 2   Pclass       891 non-null    int64  \n",
            " 3   Name         891 non-null    object \n",
            " 4   Sex          891 non-null    object \n",
            " 5   Age          714 non-null    float64\n",
            " 6   SibSp        891 non-null    int64  \n",
            " 7   Parch        891 non-null    int64  \n",
            " 8   Ticket       891 non-null    object \n",
            " 9   Fare         891 non-null    float64\n",
            " 10  Cabin        204 non-null    object \n",
            " 11  Embarked     889 non-null    object \n",
            "dtypes: float64(2), int64(5), object(5)\n",
            "memory usage: 83.7+ KB\n"
          ]
        },
        {
          "output_type": "execute_result",
          "data": {
            "text/plain": [
              "np.int64(0)"
            ]
          },
          "metadata": {},
          "execution_count": 3
        }
      ]
    },
    {
      "cell_type": "code",
      "source": [
        "detecting data anomalies in python (with pandas)"
      ],
      "metadata": {
        "id": "CPG6LB_9Q-8T"
      },
      "execution_count": null,
      "outputs": []
    },
    {
      "cell_type": "code",
      "source": [
        "import pandas as pd\n",
        "\n",
        "data = {\n",
        "    'ID': [1, 2, 2, 4, 5],\n",
        "    'Age': [25, 30, 30, -5, 200],\n",
        "    'Gender': ['Male', 'male', 'Male', 'F', 'Unknown'],\n",
        "    'Salary': [4000, None, 4000, 5000, -3000]\n",
        "}\n",
        "df = pd.DataFrame(data)\n",
        "print(df)"
      ],
      "metadata": {
        "colab": {
          "base_uri": "https://localhost:8080/"
        },
        "id": "UdNKROw3RgCm",
        "outputId": "24381635-9853-43f5-a5ce-69af4707417d"
      },
      "execution_count": 4,
      "outputs": [
        {
          "output_type": "stream",
          "name": "stdout",
          "text": [
            "   ID  Age   Gender  Salary\n",
            "0   1   25     Male  4000.0\n",
            "1   2   30     male     NaN\n",
            "2   2   30     Male  4000.0\n",
            "3   4   -5        F  5000.0\n",
            "4   5  200  Unknown -3000.0\n"
          ]
        }
      ]
    },
    {
      "cell_type": "code",
      "source": [
        "1.detect duplicates"
      ],
      "metadata": {
        "id": "Tmu2RDe8R_Ga"
      },
      "execution_count": null,
      "outputs": []
    },
    {
      "cell_type": "code",
      "source": [
        "df.duplicated().sum()          # Count duplicates\n",
        "df[df.duplicated()]            # Show duplicates"
      ],
      "metadata": {
        "colab": {
          "base_uri": "https://localhost:8080/",
          "height": 53
        },
        "id": "8xcoHK9uSHzh",
        "outputId": "a0c266d1-34e3-465f-da2f-82a865dd45b7"
      },
      "execution_count": 5,
      "outputs": [
        {
          "output_type": "execute_result",
          "data": {
            "text/plain": [
              "Empty DataFrame\n",
              "Columns: [ID, Age, Gender, Salary]\n",
              "Index: []"
            ],
            "text/html": [
              "\n",
              "  <div id=\"df-fe068862-6dbe-4d29-9535-66b044ff605c\" class=\"colab-df-container\">\n",
              "    <div>\n",
              "<style scoped>\n",
              "    .dataframe tbody tr th:only-of-type {\n",
              "        vertical-align: middle;\n",
              "    }\n",
              "\n",
              "    .dataframe tbody tr th {\n",
              "        vertical-align: top;\n",
              "    }\n",
              "\n",
              "    .dataframe thead th {\n",
              "        text-align: right;\n",
              "    }\n",
              "</style>\n",
              "<table border=\"1\" class=\"dataframe\">\n",
              "  <thead>\n",
              "    <tr style=\"text-align: right;\">\n",
              "      <th></th>\n",
              "      <th>ID</th>\n",
              "      <th>Age</th>\n",
              "      <th>Gender</th>\n",
              "      <th>Salary</th>\n",
              "    </tr>\n",
              "  </thead>\n",
              "  <tbody>\n",
              "  </tbody>\n",
              "</table>\n",
              "</div>\n",
              "    <div class=\"colab-df-buttons\">\n",
              "\n",
              "  <div class=\"colab-df-container\">\n",
              "    <button class=\"colab-df-convert\" onclick=\"convertToInteractive('df-fe068862-6dbe-4d29-9535-66b044ff605c')\"\n",
              "            title=\"Convert this dataframe to an interactive table.\"\n",
              "            style=\"display:none;\">\n",
              "\n",
              "  <svg xmlns=\"http://www.w3.org/2000/svg\" height=\"24px\" viewBox=\"0 -960 960 960\">\n",
              "    <path d=\"M120-120v-720h720v720H120Zm60-500h600v-160H180v160Zm220 220h160v-160H400v160Zm0 220h160v-160H400v160ZM180-400h160v-160H180v160Zm440 0h160v-160H620v160ZM180-180h160v-160H180v160Zm440 0h160v-160H620v160Z\"/>\n",
              "  </svg>\n",
              "    </button>\n",
              "\n",
              "  <style>\n",
              "    .colab-df-container {\n",
              "      display:flex;\n",
              "      gap: 12px;\n",
              "    }\n",
              "\n",
              "    .colab-df-convert {\n",
              "      background-color: #E8F0FE;\n",
              "      border: none;\n",
              "      border-radius: 50%;\n",
              "      cursor: pointer;\n",
              "      display: none;\n",
              "      fill: #1967D2;\n",
              "      height: 32px;\n",
              "      padding: 0 0 0 0;\n",
              "      width: 32px;\n",
              "    }\n",
              "\n",
              "    .colab-df-convert:hover {\n",
              "      background-color: #E2EBFA;\n",
              "      box-shadow: 0px 1px 2px rgba(60, 64, 67, 0.3), 0px 1px 3px 1px rgba(60, 64, 67, 0.15);\n",
              "      fill: #174EA6;\n",
              "    }\n",
              "\n",
              "    .colab-df-buttons div {\n",
              "      margin-bottom: 4px;\n",
              "    }\n",
              "\n",
              "    [theme=dark] .colab-df-convert {\n",
              "      background-color: #3B4455;\n",
              "      fill: #D2E3FC;\n",
              "    }\n",
              "\n",
              "    [theme=dark] .colab-df-convert:hover {\n",
              "      background-color: #434B5C;\n",
              "      box-shadow: 0px 1px 3px 1px rgba(0, 0, 0, 0.15);\n",
              "      filter: drop-shadow(0px 1px 2px rgba(0, 0, 0, 0.3));\n",
              "      fill: #FFFFFF;\n",
              "    }\n",
              "  </style>\n",
              "\n",
              "    <script>\n",
              "      const buttonEl =\n",
              "        document.querySelector('#df-fe068862-6dbe-4d29-9535-66b044ff605c button.colab-df-convert');\n",
              "      buttonEl.style.display =\n",
              "        google.colab.kernel.accessAllowed ? 'block' : 'none';\n",
              "\n",
              "      async function convertToInteractive(key) {\n",
              "        const element = document.querySelector('#df-fe068862-6dbe-4d29-9535-66b044ff605c');\n",
              "        const dataTable =\n",
              "          await google.colab.kernel.invokeFunction('convertToInteractive',\n",
              "                                                    [key], {});\n",
              "        if (!dataTable) return;\n",
              "\n",
              "        const docLinkHtml = 'Like what you see? Visit the ' +\n",
              "          '<a target=\"_blank\" href=https://colab.research.google.com/notebooks/data_table.ipynb>data table notebook</a>'\n",
              "          + ' to learn more about interactive tables.';\n",
              "        element.innerHTML = '';\n",
              "        dataTable['output_type'] = 'display_data';\n",
              "        await google.colab.output.renderOutput(dataTable, element);\n",
              "        const docLink = document.createElement('div');\n",
              "        docLink.innerHTML = docLinkHtml;\n",
              "        element.appendChild(docLink);\n",
              "      }\n",
              "    </script>\n",
              "  </div>\n",
              "\n",
              "\n",
              "    </div>\n",
              "  </div>\n"
            ],
            "application/vnd.google.colaboratory.intrinsic+json": {
              "type": "dataframe",
              "repr_error": "Out of range float values are not JSON compliant: nan"
            }
          },
          "metadata": {},
          "execution_count": 5
        }
      ]
    },
    {
      "cell_type": "markdown",
      "source": [
        "2.detect outliers"
      ],
      "metadata": {
        "id": "xyx_7sZiSTrT"
      }
    },
    {
      "cell_type": "code",
      "source": [
        "# Use describe to find extreme values\n",
        "print(df['Age'].describe())\n",
        "\n",
        "# Use boxplot for visual outliers\n",
        "import matplotlib.pyplot as plt\n",
        "df['Age'].plot.box()\n",
        "plt.show()"
      ],
      "metadata": {
        "colab": {
          "base_uri": "https://localhost:8080/",
          "height": 586
        },
        "id": "c5gjdjYWSZVR",
        "outputId": "67d15e10-fe2e-4ea2-c806-9e34580dee0d"
      },
      "execution_count": 6,
      "outputs": [
        {
          "output_type": "stream",
          "name": "stdout",
          "text": [
            "count      5.000000\n",
            "mean      56.000000\n",
            "std       81.807701\n",
            "min       -5.000000\n",
            "25%       25.000000\n",
            "50%       30.000000\n",
            "75%       30.000000\n",
            "max      200.000000\n",
            "Name: Age, dtype: float64\n"
          ]
        },
        {
          "output_type": "display_data",
          "data": {
            "text/plain": [
              "<Figure size 640x480 with 1 Axes>"
            ],
            "image/png": "[encoded data removed]"
          },
          "metadata": {}
        }
      ]
    },
    {
      "cell_type": "code",
      "source": [
        "3. Find Inconsistent or Invalid Entries"
      ],
      "metadata": {
        "id": "t29OClbKSeI4"
      },
      "execution_count": null,
      "outputs": []
    },
    {
      "cell_type": "code",
      "source": [
        "# Check for inconsistent gender entries\n",
        "print(df['Gender'].value_counts())\n",
        "\n",
        "# Fix known inconsistencies\n",
        "df['Gender'] = df['Gender'].replace({'male': 'Male', 'F': 'Female', 'Unknown': None})\n",
        "\n",
        "# Invalid salary (e.g., negative)\n",
        "print(df[df['Salary'] < 0])"
      ],
      "metadata": {
        "colab": {
          "base_uri": "https://localhost:8080/"
        },
        "id": "EqyTvdTmSn4R",
        "outputId": "6228f17d-7a84-459b-a046-a348a8d029e9"
      },
      "execution_count": 7,
      "outputs": [
        {
          "output_type": "stream",
          "name": "stdout",
          "text": [
            "Gender\n",
            "Male       2\n",
            "male       1\n",
            "F          1\n",
            "Unknown    1\n",
            "Name: count, dtype: int64\n",
            "   ID  Age Gender  Salary\n",
            "4   5  200   None -3000.0\n"
          ]
        }
      ]
    },
    {
      "cell_type": "markdown",
      "source": [
        "4. Detect Missing Values"
      ],
      "metadata": {
        "id": "raYoWdX-SvMq"
      }
    },
    {
      "cell_type": "code",
      "source": [
        "df.isna().sum()"
      ],
      "metadata": {
        "colab": {
          "base_uri": "https://localhost:8080/",
          "height": 210
        },
        "id": "1zg1w5laSv6g",
        "outputId": "6ab77db7-d4ba-4380-f475-885f051e2faa"
      },
      "execution_count": 8,
      "outputs": [
        {
          "output_type": "execute_result",
          "data": {
            "text/plain": [
              "ID        0\n",
              "Age       0\n",
              "Gender    1\n",
              "Salary    1\n",
              "dtype: int64"
            ],
            "text/html": [
              "<div>\n",
              "<style scoped>\n",
              "    .dataframe tbody tr th:only-of-type {\n",
              "        vertical-align: middle;\n",
              "    }\n",
              "\n",
              "    .dataframe tbody tr th {\n",
              "        vertical-align: top;\n",
              "    }\n",
              "\n",
              "    .dataframe thead th {\n",
              "        text-align: right;\n",
              "    }\n",
              "</style>\n",
              "<table border=\"1\" class=\"dataframe\">\n",
              "  <thead>\n",
              "    <tr style=\"text-align: right;\">\n",
              "      <th></th>\n",
              "      <th>0</th>\n",
              "    </tr>\n",
              "  </thead>\n",
              "  <tbody>\n",
              "    <tr>\n",
              "      <th>ID</th>\n",
              "      <td>0</td>\n",
              "    </tr>\n",
              "    <tr>\n",
              "      <th>Age</th>\n",
              "      <td>0</td>\n",
              "    </tr>\n",
              "    <tr>\n",
              "      <th>Gender</th>\n",
              "      <td>1</td>\n",
              "    </tr>\n",
              "    <tr>\n",
              "      <th>Salary</th>\n",
              "      <td>1</td>\n",
              "    </tr>\n",
              "  </tbody>\n",
              "</table>\n",
              "</div><br><label><b>dtype:</b> int64</label>"
            ]
          },
          "metadata": {},
          "execution_count": 8
        }
      ]
    },
    {
      "cell_type": "code",
      "source": [
        "import pandas as pd\n",
        "\n",
        "# Sample data with missing values\n",
        "data = {\n",
        "    'Name': ['Alice', 'Bob', None, 'Eve'],\n",
        "    'Age': [25, None, 30, 22],\n",
        "    'City': ['Delhi', 'Mumbai', 'Bangalore', None]\n",
        "}\n",
        "\n",
        "df = pd.DataFrame(data)\n",
        "\n",
        "# Use .info() to check non-null values\n",
        "df.info()"
      ],
      "metadata": {
        "colab": {
          "base_uri": "https://localhost:8080/"
        },
        "id": "x7Ymk89mS5g4",
        "outputId": "dc8cd1fe-5714-4819-d921-7449c17d052d"
      },
      "execution_count": 9,
      "outputs": [
        {
          "output_type": "stream",
          "name": "stdout",
          "text": [
            "<class 'pandas.core.frame.DataFrame'>\n",
            "RangeIndex: 4 entries, 0 to 3\n",
            "Data columns (total 3 columns):\n",
            " #   Column  Non-Null Count  Dtype  \n",
            "---  ------  --------------  -----  \n",
            " 0   Name    3 non-null      object \n",
            " 1   Age     3 non-null      float64\n",
            " 2   City    3 non-null      object \n",
            "dtypes: float64(1), object(2)\n",
            "memory usage: 228.0+ bytes\n"
          ]
        }
      ]
    },
    {
      "cell_type": "code",
      "source": [
        "One missing value in each column since only 3 out of 4 entries are non-null."
      ],
      "metadata": {
        "id": "AT2POjcaTGbi"
      },
      "execution_count": null,
      "outputs": []
    },
    {
      "cell_type": "code",
      "source": [
        "print(df.isna())"
      ],
      "metadata": {
        "colab": {
          "base_uri": "https://localhost:8080/"
        },
        "id": "JVDUMoOeTITn",
        "outputId": "61feb00d-203c-4b43-c0d3-3359a2a64b08"
      },
      "execution_count": 10,
      "outputs": [
        {
          "output_type": "stream",
          "name": "stdout",
          "text": [
            "    Name    Age   City\n",
            "0  False  False  False\n",
            "1  False   True  False\n",
            "2   True  False  False\n",
            "3  False  False   True\n"
          ]
        }
      ]
    },
    {
      "cell_type": "markdown",
      "source": [
        "Count Total Missing Values:"
      ],
      "metadata": {
        "id": "WcZ3vsnmTUeB"
      }
    },
    {
      "cell_type": "code",
      "source": [
        "# Count missing values per column\n",
        "print(df.isna().sum())"
      ],
      "metadata": {
        "colab": {
          "base_uri": "https://localhost:8080/"
        },
        "id": "WjBBmGJITVMB",
        "outputId": "92109a5a-9359-4f6a-aa35-189fbaa370b6"
      },
      "execution_count": 11,
      "outputs": [
        {
          "output_type": "stream",
          "name": "stdout",
          "text": [
            "Name    1\n",
            "Age     1\n",
            "City    1\n",
            "dtype: int64\n"
          ]
        }
      ]
    },
    {
      "cell_type": "markdown",
      "source": [
        "Outlier Detection"
      ],
      "metadata": {
        "id": "qlC2Ff61TZEX"
      }
    },
    {
      "cell_type": "code",
      "source": [
        "import pandas as pd\n",
        "import numpy as np\n",
        "import matplotlib.pyplot as plt\n",
        "from scipy import stats\n",
        "\n",
        "data = pd.Series([160, 162, 158, 165, 161, 250])  # height in cm\n",
        "\n",
        "# Boxplot\n",
        "plt.boxplot(data)\n",
        "plt.title(\"Univariate Outlier Detection - Boxplot\")\n",
        "plt.show()\n",
        "\n",
        "# IQR method\n",
        "Q1 = data.quantile(0.25)\n",
        "Q3 = data.quantile(0.75)\n",
        "IQR = Q3 - Q1\n",
        "outliers = data[(data < (Q1 - 1.5 * IQR)) | (data > (Q3 + 1.5 * IQR))]\n",
        "print(\"Outliers:\", outliers.values)"
      ],
      "metadata": {
        "colab": {
          "base_uri": "https://localhost:8080/",
          "height": 469
        },
        "id": "u23asxS3Tb-P",
        "outputId": "8545cfab-930f-48d4-ee34-40112f37a161"
      },
      "execution_count": 12,
      "outputs": [
        {
          "output_type": "display_data",
          "data": {
            "text/plain": [
              "<Figure size 640x480 with 1 Axes>"
            ],
            "image/png": "[encoded data removed]"
          },
          "metadata": {}
        },
        {
          "output_type": "stream",
          "name": "stdout",
          "text": [
            "Outliers: [250]\n"
          ]
        }
      ]
    },
    {
      "cell_type": "markdown",
      "source": [
        "# Bivariate outlier detection\n",
        "(Height vs Weight):"
      ],
      "metadata": {
        "id": "xz-wQiQ8Txye"
      }
    },
    {
      "cell_type": "code",
      "source": [
        "import matplotlib.pyplot as plt\n",
        "import numpy as np\n",
        "\n",
        "height = np.array([160, 162, 158, 165, 161, 250])\n",
        "weight = np.array([55, 60, 54, 63, 59, 80])\n",
        "\n",
        "plt.scatter(height, weight)\n",
        "plt.xlabel(\"Height (cm)\")\n",
        "plt.ylabel(\"Weight (kg)\")\n",
        "plt.title(\"Bivariate Outlier Detection - Scatter Plot\")\n",
        "plt.show()"
      ],
      "metadata": {
        "colab": {
          "base_uri": "https://localhost:8080/",
          "height": 472
        },
        "id": "O4AnXrQvT3RH",
        "outputId": "bd2263b1-6f28-49bf-e8e3-0967454a6ba6"
      },
      "execution_count": 13,
      "outputs": [
        {
          "output_type": "display_data",
          "data": {
            "text/plain": [
              "<Figure size 640x480 with 1 Axes>"
            ],
            "image/png": "[encoded data removed]"
          },
          "metadata": {}
        }
      ]
    },
    {
      "cell_type": "code",
      "source": [
        "import pandas as pd\n",
        "import matplotlib.pyplot as plt\n",
        "\n",
        "dates = pd.date_range(start='2023-01-01', periods=12, freq='M')\n",
        "sales = pd.Series([200, 210, 205, 220, 215, 800, 225, 230, 240, 235,200, 245], index=dates)\n",
        "\n",
        "sales.plot(marker='o', title=\"Time Series Outlier Detection\")\n",
        "plt.show()\n",
        "\n",
        "# Simple detection: mean ± 3*std\n",
        "mean = sales.mean()\n",
        "std = sales.std()\n",
        "outliers = sales[(sales > mean + 3*std) | (sales < mean - 3*std)]\n",
        "print(\"Outliers in time series:\\n\", outliers)"
      ],
      "metadata": {
        "colab": {
          "base_uri": "https://localhost:8080/",
          "height": 555
        },
        "id": "jfGnWzlaULDo",
        "outputId": "c0961094-bb66-4390-a30a-7f1a5f87b20b"
      },
      "execution_count": 14,
      "outputs": [
        {
          "output_type": "stream",
          "name": "stderr",
          "text": [
            "/tmp/ipython-input-3994892872.py:4: FutureWarning: 'M' is deprecated and will be removed in a future version, please use 'ME' instead.\n",
            "  dates = pd.date_range(start='2023-01-01', periods=12, freq='M')\n"
          ]
        },
        {
          "output_type": "display_data",
          "data": {
            "text/plain": [
              "<Figure size 640x480 with 1 Axes>"
            ],
            "image/png": "[encoded data removed]"
          },
          "metadata": {}
        },
        {
          "output_type": "stream",
          "name": "stdout",
          "text": [
            "Outliers in time series:\n",
            " 2023-06-30    800\n",
            "Freq: ME, dtype: int64\n"
          ]
        }
      ]
    },
    {
      "cell_type": "markdown",
      "source": [
        "Dealing with Outliers\n",
        "Replace with Upper Cap or Lower Cap"
      ],
      "metadata": {
        "id": "mEwP55GMUURG"
      }
    },
    {
      "cell_type": "code",
      "source": [
        "import pandas as pd\n",
        "data = pd.Series([5, 6, 7, 8, 100])  # Example data\n",
        "\n",
        "# Capping at 5th and 95th percentiles\n",
        "lower_cap = data.quantile(0.05)\n",
        "upper_cap = data.quantile(0.95)\n",
        "\n",
        "capped_data = data.clip(lower=lower_cap, upper=upper_cap)\n",
        "print(capped_data)"
      ],
      "metadata": {
        "colab": {
          "base_uri": "https://localhost:8080/"
        },
        "id": "j_JSHpn7UVSG",
        "outputId": "1c023877-7896-4de1-ab89-faa85ea788da"
      },
      "execution_count": 15,
      "outputs": [
        {
          "output_type": "stream",
          "name": "stdout",
          "text": [
            "0     5.2\n",
            "1     6.0\n",
            "2     7.0\n",
            "3     8.0\n",
            "4    81.6\n",
            "dtype: float64\n"
          ]
        }
      ]
    },
    {
      "cell_type": "markdown",
      "source": [
        "Perform alog transformation"
      ],
      "metadata": {
        "id": "J1IvIEoCUb-H"
      }
    },
    {
      "cell_type": "code",
      "source": [
        "import numpy as np\n",
        "data = pd.Series([10, 12, 15, 20, 200])\n",
        "log_data = np.log(data)\n",
        "print(log_data)"
      ],
      "metadata": {
        "colab": {
          "base_uri": "https://localhost:8080/"
        },
        "id": "tJftFOCSUc9m",
        "outputId": "c5721208-da81-4ed3-957f-e038ccf57dc7"
      },
      "execution_count": 16,
      "outputs": [
        {
          "output_type": "stream",
          "name": "stdout",
          "text": [
            "0    2.302585\n",
            "1    2.484907\n",
            "2    2.708050\n",
            "3    2.995732\n",
            "4    5.298317\n",
            "dtype: float64\n"
          ]
        }
      ]
    },
    {
      "cell_type": "markdown",
      "source": [
        "Remove Data Object (IQR Method Removal):"
      ],
      "metadata": {
        "id": "2p_EFT8TUjx1"
      }
    },
    {
      "cell_type": "code",
      "source": [
        "Q1 = data.quantile(0.25)\n",
        "Q3 = data.quantile(0.75)\n",
        "IQR = Q3 - Q1\n",
        "\n",
        "# Keep only non-outliers\n",
        "filtered_data = data[(data >= (Q1 - 1.5 * IQR)) & (data <= (Q3 + 1.5 * IQR))]\n",
        "print(filtered_data)"
      ],
      "metadata": {
        "colab": {
          "base_uri": "https://localhost:8080/"
        },
        "id": "_1gkbkjOUkcG",
        "outputId": "d63ca8fc-1900-4ec8-c244-a44a8681e799"
      },
      "execution_count": 17,
      "outputs": [
        {
          "output_type": "stream",
          "name": "stdout",
          "text": [
            "0    10\n",
            "1    12\n",
            "2    15\n",
            "3    20\n",
            "dtype: int64\n"
          ]
        }
      ]
    }
  ]
}